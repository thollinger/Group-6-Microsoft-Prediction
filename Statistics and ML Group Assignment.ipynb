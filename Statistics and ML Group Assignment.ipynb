{
 "cells": [
  {
   "cell_type": "markdown",
   "metadata": {},
   "source": [
    "# Statistical & Machine Learning Group Project\n",
    "## Microsoft Malware Prediction\n",
    "### Swetha Kallam, Tim Hollinger, Rohit Bhalerao"
   ]
  },
  {
   "cell_type": "markdown",
   "metadata": {},
   "source": [
    "#### Importing the libraries"
   ]
  },
  {
   "cell_type": "code",
   "execution_count": 88,
   "metadata": {},
   "outputs": [],
   "source": [
    "import numpy as np\n",
    "import pandas as pd\n",
    "import os\n",
    "import random\n",
    "from pandas   import DataFrame\n",
    "from numpy import array\n",
    "from sklearn.impute import SimpleImputer\n",
    "from sklearn import linear_model\n",
    "from sklearn.linear_model   import LogisticRegression\n",
    "from sklearn.tree           import DecisionTreeClassifier\n",
    "from sklearn.ensemble       import RandomForestClassifier\n",
    "from sklearn.ensemble       import GradientBoostingClassifier\n",
    "from sklearn.svm            import SVC\n",
    "from sklearn.neural_network import MLPClassifier\n",
    "from sklearn.neighbors      import KNeighborsClassifier\n",
    "from sklearn.metrics        import auc\n",
    "from sklearn.model_selection import cross_val_score\n",
    "from sklearn.model_selection import train_test_split\n",
    "from sklearn.metrics import roc_curve\n",
    "from sklearn.metrics        import accuracy_score\n",
    "from sklearn.preprocessing import MinMaxScaler\n",
    "from sklearn.metrics        import auc\n",
    "from sklearn.metrics        import roc_auc_score\n",
    "from sklearn.metrics        import confusion_matrix\n",
    "from sklearn.model_selection import GridSearchCV\n",
    "from sklearn.model_selection import StratifiedKFold\n",
    "from lightgbm import LGBMClassifier\n",
    "from sklearn.metrics import precision_recall_curve\n",
    "from sklearn.metrics import precision_score\n",
    "from sklearn.metrics import recall_score\n",
    "from sklearn.metrics import f1_score\n",
    "import matplotlib.pyplot as plt"
   ]
  },
  {
   "cell_type": "markdown",
   "metadata": {},
   "source": [
    "#### Importing the data"
   ]
  },
  {
   "cell_type": "code",
   "execution_count": 2,
   "metadata": {},
   "outputs": [],
   "source": [
    "# Setting the working directory where the data is present\n",
    "#os.chdir('C:\\\\Users\\\\skallam\\\\Documents\\\\Statistical Learning\\\\Group Project')"
   ]
  },
  {
   "cell_type": "code",
   "execution_count": 3,
   "metadata": {},
   "outputs": [],
   "source": [
    "#os.getcwd()"
   ]
  },
  {
   "cell_type": "markdown",
   "metadata": {},
   "source": [
    "Since the data volume is too big (appr 9M), we take a random sample of 20% of data volume from the train dataset \n",
    "And use 60% of it as training data and the remaining as test data"
   ]
  },
  {
   "cell_type": "code",
   "execution_count": 4,
   "metadata": {},
   "outputs": [
    {
     "name": "stderr",
     "output_type": "stream",
     "text": [
      "C:\\ProgramData\\Anaconda3\\lib\\site-packages\\IPython\\core\\interactiveshell.py:3146: DtypeWarning: Columns (28) have mixed types.Specify dtype option on import or set low_memory=False.\n",
      "  has_raised = await self.run_ast_nodes(code_ast.body, cell_name,\n"
     ]
    }
   ],
   "source": [
    "p = 0.1 # 10% of the data\n",
    "random.seed(5)\n",
    "kaggle_train = pd.read_csv(\"train.csv\",\n",
    "                   header = 0,\n",
    "                   skiprows = lambda i: i>0 and random.random() > p)\n",
    "\n",
    "train = kaggle_train.sample(frac=0.60) #60% of it as train\n",
    "test = kaggle_train[~kaggle_train.MachineIdentifier.isin(train.MachineIdentifier)] #rows that are not in train will be put in test"
   ]
  },
  {
   "cell_type": "code",
   "execution_count": 5,
   "metadata": {},
   "outputs": [
    {
     "name": "stdout",
     "output_type": "stream",
     "text": [
      "train:  (535124, 83)\n",
      "test:  (356749, 83)\n"
     ]
    }
   ],
   "source": [
    "print(\"train: \", train.shape)\n",
    "print(\"test: \", test.shape)"
   ]
  },
  {
   "cell_type": "code",
   "execution_count": 6,
   "metadata": {},
   "outputs": [
    {
     "data": {
      "text/plain": [
       "1    267695\n",
       "0    267429\n",
       "Name: HasDetections, dtype: int64"
      ]
     },
     "execution_count": 6,
     "metadata": {},
     "output_type": "execute_result"
    }
   ],
   "source": [
    "train[\"HasDetections\"].value_counts()\n",
    "# The training data has almost 50-50 distribution of malware"
   ]
  },
  {
   "cell_type": "code",
   "execution_count": 7,
   "metadata": {},
   "outputs": [
    {
     "data": {
      "text/plain": [
       "0    178516\n",
       "1    178233\n",
       "Name: HasDetections, dtype: int64"
      ]
     },
     "execution_count": 7,
     "metadata": {},
     "output_type": "execute_result"
    }
   ],
   "source": [
    "test[\"HasDetections\"].value_counts()\n",
    "# The test data also has almost 50-50 distribution of malware, so the sampling is fine"
   ]
  },
  {
   "cell_type": "code",
   "execution_count": 8,
   "metadata": {
    "scrolled": true
   },
   "outputs": [
    {
     "name": "stdout",
     "output_type": "stream",
     "text": [
      "<class 'pandas.core.frame.DataFrame'>\n",
      "Int64Index: 535124 entries, 880866 to 716901\n",
      "Data columns (total 83 columns):\n",
      " #   Column                                             Non-Null Count   Dtype  \n",
      "---  ------                                             --------------   -----  \n",
      " 0   MachineIdentifier                                  535124 non-null  object \n",
      " 1   ProductName                                        535124 non-null  object \n",
      " 2   EngineVersion                                      535124 non-null  object \n",
      " 3   AppVersion                                         535124 non-null  object \n",
      " 4   AvSigVersion                                       535124 non-null  object \n",
      " 5   IsBeta                                             535124 non-null  int64  \n",
      " 6   RtpStateBitfield                                   533148 non-null  float64\n",
      " 7   IsSxsPassiveMode                                   535124 non-null  int64  \n",
      " 8   DefaultBrowsersIdentifier                          25929 non-null   float64\n",
      " 9   AVProductStatesIdentifier                          532919 non-null  float64\n",
      " 10  AVProductsInstalled                                532919 non-null  float64\n",
      " 11  AVProductsEnabled                                  532919 non-null  float64\n",
      " 12  HasTpm                                             535124 non-null  int64  \n",
      " 13  CountryIdentifier                                  535124 non-null  int64  \n",
      " 14  CityIdentifier                                     515746 non-null  float64\n",
      " 15  OrganizationIdentifier                             370552 non-null  float64\n",
      " 16  GeoNameIdentifier                                  535113 non-null  float64\n",
      " 17  LocaleEnglishNameIdentifier                        535124 non-null  int64  \n",
      " 18  Platform                                           535124 non-null  object \n",
      " 19  Processor                                          535124 non-null  object \n",
      " 20  OsVer                                              535124 non-null  object \n",
      " 21  OsBuild                                            535124 non-null  int64  \n",
      " 22  OsSuite                                            535124 non-null  int64  \n",
      " 23  OsPlatformSubRelease                               535124 non-null  object \n",
      " 24  OsBuildLab                                         535122 non-null  object \n",
      " 25  SkuEdition                                         535124 non-null  object \n",
      " 26  IsProtected                                        532934 non-null  float64\n",
      " 27  AutoSampleOptIn                                    535124 non-null  int64  \n",
      " 28  PuaMode                                            126 non-null     object \n",
      " 29  SMode                                              503055 non-null  float64\n",
      " 30  IeVerIdentifier                                    531630 non-null  float64\n",
      " 31  SmartScreen                                        344808 non-null  object \n",
      " 32  Firewall                                           529637 non-null  float64\n",
      " 33  UacLuaenable                                       534437 non-null  float64\n",
      " 34  Census_MDC2FormFactor                              535124 non-null  object \n",
      " 35  Census_DeviceFamily                                535124 non-null  object \n",
      " 36  Census_OEMNameIdentifier                           529378 non-null  float64\n",
      " 37  Census_OEMModelIdentifier                          529007 non-null  float64\n",
      " 38  Census_ProcessorCoreCount                          532700 non-null  float64\n",
      " 39  Census_ProcessorManufacturerIdentifier             532700 non-null  float64\n",
      " 40  Census_ProcessorModelIdentifier                    532699 non-null  float64\n",
      " 41  Census_ProcessorClass                              2237 non-null    object \n",
      " 42  Census_PrimaryDiskTotalCapacity                    531982 non-null  float64\n",
      " 43  Census_PrimaryDiskTypeName                         534369 non-null  object \n",
      " 44  Census_SystemVolumeTotalCapacity                   531984 non-null  float64\n",
      " 45  Census_HasOpticalDiskDrive                         535124 non-null  int64  \n",
      " 46  Census_TotalPhysicalRAM                            530313 non-null  float64\n",
      " 47  Census_ChassisTypeName                             535074 non-null  object \n",
      " 48  Census_InternalPrimaryDiagonalDisplaySizeInInches  532273 non-null  float64\n",
      " 49  Census_InternalPrimaryDisplayResolutionHorizontal  532283 non-null  float64\n",
      " 50  Census_InternalPrimaryDisplayResolutionVertical    532283 non-null  float64\n",
      " 51  Census_PowerPlatformRoleName                       535119 non-null  object \n",
      " 52  Census_InternalBatteryType                         155401 non-null  object \n",
      " 53  Census_InternalBatteryNumberOfCharges              519155 non-null  float64\n",
      " 54  Census_OSVersion                                   535124 non-null  object \n",
      " 55  Census_OSArchitecture                              535124 non-null  object \n",
      " 56  Census_OSBranch                                    535124 non-null  object \n",
      " 57  Census_OSBuildNumber                               535124 non-null  int64  \n",
      " 58  Census_OSBuildRevision                             535124 non-null  int64  \n",
      " 59  Census_OSEdition                                   535124 non-null  object \n",
      " 60  Census_OSSkuName                                   535124 non-null  object \n",
      " 61  Census_OSInstallTypeName                           535124 non-null  object \n",
      " 62  Census_OSInstallLanguageIdentifier                 531411 non-null  float64\n",
      " 63  Census_OSUILocaleIdentifier                        535124 non-null  int64  \n",
      " 64  Census_OSWUAutoUpdateOptionsName                   535124 non-null  object \n",
      " 65  Census_IsPortableOperatingSystem                   535124 non-null  int64  \n",
      " 66  Census_GenuineStateName                            535124 non-null  object \n",
      " 67  Census_ActivationChannel                           535124 non-null  object \n",
      " 68  Census_IsFlightingInternal                         91123 non-null   float64\n",
      " 69  Census_IsFlightsDisabled                           525573 non-null  float64\n",
      " 70  Census_FlightRing                                  535124 non-null  object \n",
      " 71  Census_ThresholdOptIn                              195502 non-null  float64\n",
      " 72  Census_FirmwareManufacturerIdentifier              524214 non-null  float64\n",
      " 73  Census_FirmwareVersionIdentifier                   525597 non-null  float64\n",
      " 74  Census_IsSecureBootEnabled                         535124 non-null  int64  \n",
      " 75  Census_IsWIMBootEnabled                            195970 non-null  float64\n",
      " 76  Census_IsVirtualDevice                             534104 non-null  float64\n",
      " 77  Census_IsTouchEnabled                              535124 non-null  int64  \n",
      " 78  Census_IsPenCapable                                535124 non-null  int64  \n",
      " 79  Census_IsAlwaysOnAlwaysConnectedCapable            530942 non-null  float64\n",
      " 80  Wdft_IsGamer                                       516763 non-null  float64\n",
      " 81  Wdft_RegionIdentifier                              516763 non-null  float64\n",
      " 82  HasDetections                                      535124 non-null  int64  \n",
      "dtypes: float64(36), int64(17), object(30)\n",
      "memory usage: 342.9+ MB\n"
     ]
    }
   ],
   "source": [
    "train.info()"
   ]
  },
  {
   "cell_type": "markdown",
   "metadata": {},
   "source": [
    "We remove the columns if more than 90% of the data is NA"
   ]
  },
  {
   "cell_type": "code",
   "execution_count": 9,
   "metadata": {},
   "outputs": [
    {
     "name": "stdout",
     "output_type": "stream",
     "text": [
      "['DefaultBrowsersIdentifier', 'PuaMode', 'Census_ProcessorClass']\n"
     ]
    },
    {
     "name": "stderr",
     "output_type": "stream",
     "text": [
      "C:\\ProgramData\\Anaconda3\\lib\\site-packages\\pandas\\core\\frame.py:4163: SettingWithCopyWarning: \n",
      "A value is trying to be set on a copy of a slice from a DataFrame\n",
      "\n",
      "See the caveats in the documentation: https://pandas.pydata.org/pandas-docs/stable/user_guide/indexing.html#returning-a-view-versus-a-copy\n",
      "  return super().drop(\n"
     ]
    }
   ],
   "source": [
    "# Finding the columns with null values in more than 90% of the data volume\n",
    "to_drop = list(train.columns[train.isna().sum() >= 0.9*len(train)].values)\n",
    "print(to_drop)\n",
    "# Dropping those columns from both train and test data\n",
    "train.drop(to_drop, axis=1, inplace=True)\n",
    "test.drop(to_drop, axis=1, inplace=True)"
   ]
  },
  {
   "cell_type": "code",
   "execution_count": 10,
   "metadata": {},
   "outputs": [],
   "source": [
    "# Separating the features and outcome variable\n",
    "train_X = train.drop('HasDetections', 1)\n",
    "train_y = train.HasDetections\n",
    "test_X = test.drop('HasDetections', 1)\n",
    "test_y = test.HasDetections"
   ]
  },
  {
   "cell_type": "code",
   "execution_count": 11,
   "metadata": {},
   "outputs": [
    {
     "name": "stdout",
     "output_type": "stream",
     "text": [
      "train_X:  (535124, 79)\n",
      "test_X:  (356749, 79)\n"
     ]
    }
   ],
   "source": [
    "print(\"train_X: \", train_X.shape)\n",
    "print(\"test_X: \", test_X.shape)"
   ]
  },
  {
   "cell_type": "markdown",
   "metadata": {},
   "source": [
    "Categorical variables:\n",
    "\n",
    "We will drop the columns which have more than 20 categories (we can increase this number later if needed)"
   ]
  },
  {
   "cell_type": "code",
   "execution_count": 12,
   "metadata": {},
   "outputs": [
    {
     "name": "stdout",
     "output_type": "stream",
     "text": [
      "Variable 'MachineIdentifier' has 535124 distinct values\n",
      "Variable 'ProductName' has 5 distinct values\n",
      "Variable 'EngineVersion' has 56 distinct values\n",
      "Variable EngineVersion is dropped\n",
      "Variable 'AppVersion' has 92 distinct values\n",
      "Variable AppVersion is dropped\n",
      "Variable 'AvSigVersion' has 6574 distinct values\n",
      "Variable AvSigVersion is dropped\n",
      "Variable 'Platform' has 4 distinct values\n",
      "Variable 'Processor' has 3 distinct values\n",
      "Variable 'OsVer' has 18 distinct values\n",
      "Variable 'OsPlatformSubRelease' has 9 distinct values\n",
      "Variable 'OsBuildLab' has 470 distinct values\n",
      "Variable OsBuildLab is dropped\n",
      "Variable 'SkuEdition' has 8 distinct values\n",
      "Variable 'SmartScreen' has 12 distinct values\n",
      "Variable 'Census_MDC2FormFactor' has 12 distinct values\n",
      "Variable 'Census_DeviceFamily' has 2 distinct values\n",
      "Variable 'Census_PrimaryDiskTypeName' has 5 distinct values\n",
      "Variable 'Census_ChassisTypeName' has 33 distinct values\n",
      "Variable Census_ChassisTypeName is dropped\n",
      "Variable 'Census_PowerPlatformRoleName' has 10 distinct values\n",
      "Variable 'Census_InternalBatteryType' has 31 distinct values\n",
      "Variable Census_InternalBatteryType is dropped\n",
      "Variable 'Census_OSVersion' has 300 distinct values\n",
      "Variable Census_OSVersion is dropped\n",
      "Variable 'Census_OSArchitecture' has 3 distinct values\n",
      "Variable 'Census_OSBranch' has 15 distinct values\n",
      "Variable 'Census_OSEdition' has 20 distinct values\n",
      "Variable 'Census_OSSkuName' has 19 distinct values\n",
      "Variable 'Census_OSInstallTypeName' has 9 distinct values\n",
      "Variable 'Census_OSWUAutoUpdateOptionsName' has 6 distinct values\n",
      "Variable 'Census_GenuineStateName' has 4 distinct values\n",
      "Variable 'Census_ActivationChannel' has 6 distinct values\n",
      "Variable 'Census_FlightRing' has 8 distinct values\n"
     ]
    }
   ],
   "source": [
    "# Drop the variables which have more than 20 categories\n",
    "for col in train_X.columns:\n",
    "    if train_X[col].dtypes == 'object':\n",
    "        unique_cat = len(train_X[col].unique())\n",
    "        print(\"Variable '{col_name}' has {unique_cat} distinct values\".format(col_name=col, unique_cat=unique_cat))\n",
    "        if unique_cat>20 and col!='MachineIdentifier':\n",
    "            train_X.drop([col],axis=1,inplace=True)\n",
    "            test_X.drop([col],axis=1,inplace=True)\n",
    "            print(\"Variable\", col, \"is dropped\")"
   ]
  },
  {
   "cell_type": "code",
   "execution_count": 13,
   "metadata": {},
   "outputs": [
    {
     "data": {
      "text/plain": [
       "Index(['MachineIdentifier', 'ProductName', 'Platform', 'Processor', 'OsVer',\n",
       "       'OsPlatformSubRelease', 'SkuEdition', 'SmartScreen',\n",
       "       'Census_MDC2FormFactor', 'Census_DeviceFamily',\n",
       "       'Census_PrimaryDiskTypeName', 'Census_PowerPlatformRoleName',\n",
       "       'Census_OSArchitecture', 'Census_OSBranch', 'Census_OSEdition',\n",
       "       'Census_OSSkuName', 'Census_OSInstallTypeName',\n",
       "       'Census_OSWUAutoUpdateOptionsName', 'Census_GenuineStateName',\n",
       "       'Census_ActivationChannel', 'Census_FlightRing'],\n",
       "      dtype='object')"
      ]
     },
     "execution_count": 13,
     "metadata": {},
     "output_type": "execute_result"
    }
   ],
   "source": [
    "train_X.columns[train_X.dtypes=='object']"
   ]
  },
  {
   "cell_type": "code",
   "execution_count": 14,
   "metadata": {},
   "outputs": [
    {
     "name": "stdout",
     "output_type": "stream",
     "text": [
      "win8defender     529391\n",
      "mse                5729\n",
      "mseprerelease         2\n",
      "scep                  1\n",
      "fep                   1\n",
      "Name: ProductName, dtype: int64\n",
      "0\n",
      "win8defender    529391\n",
      "Others            5733\n",
      "Name: ProductName, dtype: int64\n"
     ]
    }
   ],
   "source": [
    "#ProductName\n",
    "print(train_X.ProductName.value_counts())\n",
    "# We will group everything except win8defender as \"Others\"\n",
    "print(train_X.ProductName.isna().sum())\n",
    "# No null values\n",
    "\n",
    "train_X['ProductName'] = ['win8defender' if x == 'win8defender' else 'Others' for x in train_X['ProductName']]\n",
    "print(train_X.ProductName.value_counts())\n",
    "\n",
    "# Do the same for test data\n",
    "test_X['ProductName'] = ['win8defender' if x == 'win8defender' else 'Others' for x in test_X['ProductName']]"
   ]
  },
  {
   "cell_type": "code",
   "execution_count": 15,
   "metadata": {},
   "outputs": [
    {
     "name": "stdout",
     "output_type": "stream",
     "text": [
      "windows10      516854\n",
      "windows8        11770\n",
      "windows7         5659\n",
      "windows2016       841\n",
      "Name: Platform, dtype: int64\n",
      "0\n",
      "windows10    516854\n",
      "Others        18270\n",
      "Name: Platform, dtype: int64\n"
     ]
    }
   ],
   "source": [
    "#Platform\n",
    "print(train_X.Platform.value_counts())\n",
    "# 861627 is ~96% of total data volume, so here as well\n",
    "# We will group everything except windows10 as \"Others\"\n",
    "print(train_X.Platform.isna().sum())\n",
    "# No null values\n",
    "\n",
    "train_X['Platform'] = ['windows10' if x == 'windows10' else 'Others' for x in train_X['Platform']]\n",
    "print(train_X.Platform.value_counts())\n",
    "\n",
    "# Do the same for test data\n",
    "test_X['Platform'] = ['windows10' if x == 'windows10' else 'Others' for x in test_X['Platform']]"
   ]
  },
  {
   "cell_type": "code",
   "execution_count": 16,
   "metadata": {},
   "outputs": [
    {
     "name": "stdout",
     "output_type": "stream",
     "text": [
      "x64      486063\n",
      "x86       49040\n",
      "arm64        21\n",
      "Name: Processor, dtype: int64\n",
      "0\n",
      "x64       486063\n",
      "Others     49061\n",
      "Name: Processor, dtype: int64\n"
     ]
    }
   ],
   "source": [
    "#Processor\n",
    "print(train_X.Processor.value_counts())\n",
    "# Here as well, 30 is only ~3% of the data volume, so we group it with x86 as others\n",
    "print(train_X.Processor.isna().sum())\n",
    "# No null values\n",
    "\n",
    "train_X['Processor'] = ['x64' if x == 'x64' else 'Others' for x in train_X['Processor']]\n",
    "print(train_X.Processor.value_counts())\n",
    "\n",
    "# Do the same for test data\n",
    "test_X['Processor'] = ['x64' if x == 'x64' else 'Others' for x in test_X['Processor']]"
   ]
  },
  {
   "cell_type": "code",
   "execution_count": 17,
   "metadata": {},
   "outputs": [
    {
     "name": "stdout",
     "output_type": "stream",
     "text": [
      "rs4           234793\n",
      "rs3           149339\n",
      "rs2            46950\n",
      "rs1            43951\n",
      "th2            25017\n",
      "th1            16373\n",
      "windows8.1     11770\n",
      "windows7        5659\n",
      "prers5          1272\n",
      "Name: OsPlatformSubRelease, dtype: int64\n",
      "0\n"
     ]
    }
   ],
   "source": [
    "#OsPlatformSubRelease\n",
    "print(train_X.OsPlatformSubRelease.value_counts())\n",
    "# We keep it as-is, we'll perform dummy encoding later\n",
    "print(train_X.OsPlatformSubRelease.isna().sum())\n",
    "# No null values"
   ]
  },
  {
   "cell_type": "code",
   "execution_count": 18,
   "metadata": {},
   "outputs": [
    {
     "name": "stdout",
     "output_type": "stream",
     "text": [
      "Home               330728\n",
      "Pro                193438\n",
      "Invalid              4743\n",
      "Education            2366\n",
      "Enterprise           2123\n",
      "Enterprise LTSB      1173\n",
      "Cloud                 330\n",
      "Server                223\n",
      "Name: SkuEdition, dtype: int64\n",
      "0\n",
      "Home      330728\n",
      "Pro       193438\n",
      "Others     10958\n",
      "Name: SkuEdition, dtype: int64\n"
     ]
    }
   ],
   "source": [
    "#SkuEdition\n",
    "print(train_X.SkuEdition.value_counts())\n",
    "# We keep Home and Pro as-is, we'll group everything else as Others\n",
    "print(train_X.SkuEdition.isna().sum())\n",
    "# No null values\n",
    "\n",
    "train_X['SkuEdition'] = ['Others' if x not in ['Home','Pro'] \n",
    "                                    else x for x in train_X['SkuEdition']]\n",
    "\n",
    "print(train_X.SkuEdition.value_counts())\n",
    "\n",
    "test_X['SkuEdition'] = ['Others' if x not in ['Home','Pro'] \n",
    "                                    else x for x in test_X['SkuEdition']]"
   ]
  },
  {
   "cell_type": "code",
   "execution_count": 19,
   "metadata": {},
   "outputs": [
    {
     "name": "stdout",
     "output_type": "stream",
     "text": [
      "RequireAdmin    259748\n",
      "ExistsNotSet     62172\n",
      "Off              11311\n",
      "Warn              8017\n",
      "Prompt            2105\n",
      "Block             1295\n",
      "off                 75\n",
      "On                  37\n",
      "&#x02;              27\n",
      "&#x01;              15\n",
      "on                   6\n",
      "Name: SmartScreen, dtype: int64\n",
      "190316\n",
      "RequireAdmin    259748\n",
      "Missing         190316\n",
      "ExistsNotSet     62172\n",
      "Others           22888\n",
      "Name: SmartScreen, dtype: int64\n"
     ]
    }
   ],
   "source": [
    "#SmartScreen\n",
    "print(train_X.SmartScreen.value_counts())\n",
    "# We keep Home and Pro as-is, we'll group everything else as Others\n",
    "print(train_X.SmartScreen.isna().sum())\n",
    "# 317254 null values\n",
    "\n",
    "# We create new category as \"Missing\"\n",
    "train_X['SmartScreen'].fillna(value=\"Missing\", inplace=True)\n",
    "test_X['SmartScreen'].fillna(value=\"Missing\", inplace=True)\n",
    "\n",
    "train_X['SmartScreen'] = ['Others' if x not in ['RequireAdmin','ExistsNotSet', 'Missing'] \n",
    "                                    else x for x in train_X['SmartScreen']]\n",
    "print(train_X.SmartScreen.value_counts())\n",
    "\n",
    "test_X['SmartScreen'] = ['Others' if x not in ['RequireAdmin','ExistsNotSet', 'Missing'] \n",
    "                                    else x for x in test_X['SmartScreen']]"
   ]
  },
  {
   "cell_type": "code",
   "execution_count": 20,
   "metadata": {},
   "outputs": [
    {
     "name": "stdout",
     "output_type": "stream",
     "text": [
      "Notebook        343360\n",
      "Desktop         116771\n",
      "Convertible      24187\n",
      "Detachable       17960\n",
      "AllInOne         17688\n",
      "PCOther           8406\n",
      "LargeTablet       4106\n",
      "SmallTablet       1905\n",
      "SmallServer        525\n",
      "MediumServer       176\n",
      "LargeServer         39\n",
      "IoTOther             1\n",
      "Name: Census_MDC2FormFactor, dtype: int64\n",
      "0\n",
      "Notebook       343360\n",
      "Desktop        116771\n",
      "Convertible     24187\n",
      "Detachable      17960\n",
      "AllInOne        17688\n",
      "PCOther          8406\n",
      "Others           6752\n",
      "Name: Census_MDC2FormFactor, dtype: int64\n"
     ]
    }
   ],
   "source": [
    "#Census_MDC2FormFactor\n",
    "print(train_X.Census_MDC2FormFactor.value_counts())\n",
    "# We will group SmallServer ,MediumServer, LargeServer and IoTOther as Others\n",
    "print(train_X.Census_MDC2FormFactor.isna().sum())\n",
    "# no null values\n",
    "\n",
    "train_X['Census_MDC2FormFactor'] = ['Others' if x not in ['Notebook','Desktop','Convertible','Detachable','AllInOne','PCOther'] \n",
    "                                    else x for x in train_X['Census_MDC2FormFactor']]\n",
    "print(train_X['Census_MDC2FormFactor'].value_counts())\n",
    "\n",
    "test_X['Census_MDC2FormFactor'] = ['Others' if x not in ['Notebook','Desktop','Convertible','Detachable','AllInOne','PCOther'] \n",
    "                                    else x for x in test_X['Census_MDC2FormFactor']]"
   ]
  },
  {
   "cell_type": "code",
   "execution_count": 21,
   "metadata": {},
   "outputs": [
    {
     "name": "stdout",
     "output_type": "stream",
     "text": [
      "Windows.Desktop    534283\n",
      "Windows.Server        841\n",
      "Name: Census_DeviceFamily, dtype: int64\n",
      "0\n"
     ]
    }
   ],
   "source": [
    "#Census_DeviceFamily\n",
    "print(train_X.Census_DeviceFamily.value_counts())\n",
    "print(train_X.Census_DeviceFamily.isna().sum())\n",
    "# Looks good"
   ]
  },
  {
   "cell_type": "code",
   "execution_count": 22,
   "metadata": {},
   "outputs": [
    {
     "name": "stdout",
     "output_type": "stream",
     "text": [
      "HDD            348149\n",
      "SSD            148123\n",
      "UNKNOWN         21424\n",
      "Unspecified     16673\n",
      "Name: Census_PrimaryDiskTypeName, dtype: int64\n",
      "755\n",
      "HDD            348904\n",
      "SSD            148123\n",
      "UNKNOWN         21424\n",
      "Unspecified     16673\n",
      "Name: Census_PrimaryDiskTypeName, dtype: int64\n"
     ]
    }
   ],
   "source": [
    "#Census_PrimaryDiskTypeName\n",
    "print(train_X.Census_PrimaryDiskTypeName.value_counts())\n",
    "print(train_X.Census_PrimaryDiskTypeName.isna().sum())\n",
    "\n",
    "# num of null values are quite few comparitively, so we replace them with most frequent value \"HDD\" instead of creating new category\n",
    "train_X['Census_PrimaryDiskTypeName'].fillna(value=\"HDD\", inplace=True)\n",
    "test_X['Census_PrimaryDiskTypeName'].fillna(value=\"HDD\", inplace=True)\n",
    "\n",
    "print(train_X.Census_PrimaryDiskTypeName.value_counts())"
   ]
  },
  {
   "cell_type": "code",
   "execution_count": 23,
   "metadata": {},
   "outputs": [
    {
     "name": "stdout",
     "output_type": "stream",
     "text": [
      "Mobile               370798\n",
      "Desktop              123702\n",
      "Slate                 29700\n",
      "Workstation            6735\n",
      "SOHOServer             2290\n",
      "UNKNOWN                1253\n",
      "EnterpriseServer        392\n",
      "AppliancePC             245\n",
      "PerformanceServer         4\n",
      "Name: Census_PowerPlatformRoleName, dtype: int64\n",
      "5\n",
      "Mobile         370798\n",
      "Desktop        123702\n",
      "Slate           29700\n",
      "Workstation      6735\n",
      "Others           4189\n",
      "Name: Census_PowerPlatformRoleName, dtype: int64\n"
     ]
    }
   ],
   "source": [
    "#Census_PowerPlatformRoleName\n",
    "print(train_X.Census_PowerPlatformRoleName.value_counts())\n",
    "print(train_X.Census_PowerPlatformRoleName.isna().sum())\n",
    "\n",
    "\n",
    "train_X['Census_PowerPlatformRoleName'] = ['Others' if x not in ['Mobile','Desktop','Slate','Workstation'] \n",
    "                                    else x for x in train_X['Census_PowerPlatformRoleName']]\n",
    "print(train_X.Census_PowerPlatformRoleName.value_counts())\n",
    "test_X['Census_PowerPlatformRoleName'] = ['Others' if x not in ['Mobile','Desktop','Slate','Workstation'] \n",
    "                                    else x for x in test_X['Census_PowerPlatformRoleName']]"
   ]
  },
  {
   "cell_type": "code",
   "execution_count": 24,
   "metadata": {},
   "outputs": [
    {
     "name": "stdout",
     "output_type": "stream",
     "text": [
      "amd64    486040\n",
      "x86       49063\n",
      "arm64        21\n",
      "Name: Census_OSArchitecture, dtype: int64\n",
      "0\n",
      "amd64     486040\n",
      "Others     49084\n",
      "Name: Census_OSArchitecture, dtype: int64\n"
     ]
    }
   ],
   "source": [
    "#Census_OSArchitecture\n",
    "print(train_X.Census_OSArchitecture.value_counts())\n",
    "print(train_X.Census_OSArchitecture.isna().sum())\n",
    "\n",
    "train_X['Census_OSArchitecture'] = ['amd64' if x == 'amd64' else 'Others' for x in train_X['Census_OSArchitecture']]\n",
    "print(train_X.Census_OSArchitecture.value_counts())\n",
    "test_X['Census_OSArchitecture'] = ['amd64' if x == 'amd64' else 'Others' for x in test_X['Census_OSArchitecture']]"
   ]
  },
  {
   "cell_type": "code",
   "execution_count": 25,
   "metadata": {},
   "outputs": [
    {
     "name": "stdout",
     "output_type": "stream",
     "text": [
      "rs4_release                  240474\n",
      "rs3_release                   73927\n",
      "rs3_release_svc_escrow        71403\n",
      "rs2_release                   47898\n",
      "rs1_release                   47333\n",
      "th2_release                   19844\n",
      "th2_release_sec               16125\n",
      "th1_st1                       11753\n",
      "th1                            4699\n",
      "rs5_release                     940\n",
      "rs3_release_svc_escrow_im       377\n",
      "rs_prerelease                   174\n",
      "rs_prerelease_flt               169\n",
      "rs5_release_sigma                 7\n",
      "rs1_release_sec                   1\n",
      "Name: Census_OSBranch, dtype: int64\n",
      "0\n",
      "rs4_release               240474\n",
      "rs3_release                73927\n",
      "rs3_release_svc_escrow     71403\n",
      "rs2_release                47898\n",
      "rs1_release                47333\n",
      "th2_release                19844\n",
      "th2_release_sec            16125\n",
      "th1_st1                    11753\n",
      "Others                      6367\n",
      "Name: Census_OSBranch, dtype: int64\n"
     ]
    }
   ],
   "source": [
    "#Census_OSBranch\n",
    "print(train_X.Census_OSBranch.value_counts())\n",
    "print(train_X.Census_OSBranch.isna().sum())\n",
    "\n",
    "train_X['Census_OSBranch'] = ['Others' if x not in ['rs4_release','rs3_release' ,'rs3_release_svc_escrow','rs2_release','rs1_release','th2_release','th2_release_sec','th1_st1'] \n",
    "                                    else x for x in train_X['Census_OSBranch']]\n",
    "print(train_X.Census_OSBranch.value_counts())\n",
    "\n",
    "test_X['Census_OSBranch'] = ['Others' if x not in ['rs4_release','rs3_release' ,'rs3_release_svc_escrow','rs2_release','rs1_release','th2_release','th2_release_sec','th1_st1'] \n",
    "                                    else x for x in test_X['Census_OSBranch']]"
   ]
  },
  {
   "cell_type": "code",
   "execution_count": 26,
   "metadata": {},
   "outputs": [
    {
     "name": "stdout",
     "output_type": "stream",
     "text": [
      "UUPUpgrade        156038\n",
      "IBSClean           98819\n",
      "Update             95419\n",
      "Upgrade            75321\n",
      "Other              50851\n",
      "Reset              39085\n",
      "Refresh            12344\n",
      "Clean               4064\n",
      "CleanPCRefresh      3183\n",
      "Name: Census_OSInstallTypeName, dtype: int64\n",
      "0\n"
     ]
    }
   ],
   "source": [
    "#Census_OSInstallTypeName\n",
    "print(train_X.Census_OSInstallTypeName.value_counts())\n",
    "print(train_X.Census_OSInstallTypeName.isna().sum())\n",
    "#No issues"
   ]
  },
  {
   "cell_type": "code",
   "execution_count": 27,
   "metadata": {},
   "outputs": [
    {
     "name": "stdout",
     "output_type": "stream",
     "text": [
      "FullAuto                                 237317\n",
      "UNKNOWN                                  151115\n",
      "Notify                                   121972\n",
      "AutoInstallAndRebootAtMaintenanceTime     22235\n",
      "Off                                        1644\n",
      "DownloadNotify                              841\n",
      "Name: Census_OSWUAutoUpdateOptionsName, dtype: int64\n",
      "0\n",
      "FullAuto    237317\n",
      "UNKNOWN     151115\n",
      "Notify      121972\n",
      "Others       24720\n",
      "Name: Census_OSWUAutoUpdateOptionsName, dtype: int64\n"
     ]
    }
   ],
   "source": [
    "#Census_OSWUAutoUpdateOptionsName\n",
    "print(train_X.Census_OSWUAutoUpdateOptionsName.value_counts())\n",
    "print(train_X.Census_OSWUAutoUpdateOptionsName.isna().sum())\n",
    "\n",
    "train_X['Census_OSWUAutoUpdateOptionsName'] = ['Others' if x not in ['FullAuto','UNKNOWN' ,'Notify'] \n",
    "                                    else x for x in train_X['Census_OSWUAutoUpdateOptionsName']]\n",
    "\n",
    "print(train_X.Census_OSWUAutoUpdateOptionsName.value_counts())\n",
    "\n",
    "test_X['Census_OSWUAutoUpdateOptionsName'] = ['Others' if x not in ['FullAuto','UNKNOWN' ,'Notify'] \n",
    "                                    else x for x in test_X['Census_OSWUAutoUpdateOptionsName']]"
   ]
  },
  {
   "cell_type": "code",
   "execution_count": 28,
   "metadata": {},
   "outputs": [
    {
     "name": "stdout",
     "output_type": "stream",
     "text": [
      "IS_GENUINE         472217\n",
      "INVALID_LICENSE     48241\n",
      "OFFLINE             13818\n",
      "UNKNOWN               848\n",
      "Name: Census_GenuineStateName, dtype: int64\n",
      "0\n"
     ]
    }
   ],
   "source": [
    "#Census_GenuineStateName\n",
    "print(train_X.Census_GenuineStateName.value_counts())\n",
    "print(train_X.Census_GenuineStateName.isna().sum())\n",
    "# No issues"
   ]
  },
  {
   "cell_type": "code",
   "execution_count": 29,
   "metadata": {},
   "outputs": [
    {
     "name": "stdout",
     "output_type": "stream",
     "text": [
      "Retail            283562\n",
      "OEM:DM            204724\n",
      "Volume:GVLK        27161\n",
      "OEM:NONSLP         18970\n",
      "Volume:MAK           484\n",
      "Retail:TB:Eval       223\n",
      "Name: Census_ActivationChannel, dtype: int64\n",
      "0\n",
      "Retail         283562\n",
      "OEM:DM         204724\n",
      "Volume:GVLK     27161\n",
      "Others          19677\n",
      "Name: Census_ActivationChannel, dtype: int64\n"
     ]
    }
   ],
   "source": [
    "#Census_ActivationChannel\n",
    "print(train_X.Census_ActivationChannel.value_counts())\n",
    "print(train_X.Census_ActivationChannel.isna().sum())\n",
    "\n",
    "train_X['Census_ActivationChannel'] = ['Others' if x not in ['Retail','OEM:DM' ,'Volume:GVLK'] \n",
    "                                    else x for x in train_X['Census_ActivationChannel']]\n",
    "print(train_X.Census_ActivationChannel.value_counts())\n",
    "\n",
    "test_X['Census_ActivationChannel'] = ['Others' if x not in ['Retail','OEM:DM' ,'Volume:GVLK'] \n",
    "                                    else x for x in test_X['Census_ActivationChannel']]"
   ]
  },
  {
   "cell_type": "code",
   "execution_count": 30,
   "metadata": {},
   "outputs": [
    {
     "name": "stdout",
     "output_type": "stream",
     "text": [
      "Retail      501064\n",
      "NOT_SET      17404\n",
      "Unknown      14612\n",
      "WIF            645\n",
      "WIS            622\n",
      "RP             537\n",
      "Disabled       239\n",
      "OSG              1\n",
      "Name: Census_FlightRing, dtype: int64\n",
      "0\n",
      "Retail     501064\n",
      "NOT_SET     17404\n",
      "Unknown     14612\n",
      "Others       2044\n",
      "Name: Census_FlightRing, dtype: int64\n"
     ]
    }
   ],
   "source": [
    "#Census_FlightRing\n",
    "print(train_X.Census_FlightRing.value_counts())\n",
    "print(train_X.Census_FlightRing.isna().sum())\n",
    "\n",
    "train_X['Census_FlightRing'] = ['Others' if x not in ['Retail','NOT_SET' ,'Unknown'] \n",
    "                                    else x for x in train_X['Census_FlightRing']]\n",
    "print(train_X.Census_FlightRing.value_counts())\n",
    "\n",
    "test_X['Census_FlightRing'] = ['Others' if x not in ['Retail','NOT_SET' ,'Unknown'] \n",
    "                                    else x for x in test_X['Census_FlightRing']]"
   ]
  },
  {
   "cell_type": "markdown",
   "metadata": {},
   "source": [
    "Now we perform dummy encoding on all these variables and drop the original ones"
   ]
  },
  {
   "cell_type": "code",
   "execution_count": 31,
   "metadata": {},
   "outputs": [
    {
     "data": {
      "text/plain": [
       "['ProductName',\n",
       " 'Platform',\n",
       " 'Processor',\n",
       " 'OsVer',\n",
       " 'OsPlatformSubRelease',\n",
       " 'SkuEdition',\n",
       " 'SmartScreen',\n",
       " 'Census_MDC2FormFactor',\n",
       " 'Census_DeviceFamily',\n",
       " 'Census_PrimaryDiskTypeName',\n",
       " 'Census_PowerPlatformRoleName',\n",
       " 'Census_OSArchitecture',\n",
       " 'Census_OSBranch',\n",
       " 'Census_OSEdition',\n",
       " 'Census_OSSkuName',\n",
       " 'Census_OSInstallTypeName',\n",
       " 'Census_OSWUAutoUpdateOptionsName',\n",
       " 'Census_GenuineStateName',\n",
       " 'Census_ActivationChannel',\n",
       " 'Census_FlightRing']"
      ]
     },
     "execution_count": 31,
     "metadata": {},
     "output_type": "execute_result"
    }
   ],
   "source": [
    "todummy_list = list(train_X.columns[train_X.dtypes=='object'].values)[1:]\n",
    "todummy_list"
   ]
  },
  {
   "cell_type": "code",
   "execution_count": 32,
   "metadata": {},
   "outputs": [],
   "source": [
    "def dummy_df(df, todummy_list):\n",
    "    for x in todummy_list:\n",
    "        dummies = pd.get_dummies(df[x], prefix=x, dummy_na=False)\n",
    "        df = df.drop(x, 1)\n",
    "        df = pd.concat([df, dummies], axis=1)\n",
    "    return df\n",
    "\n",
    "train_X_new = dummy_df(train_X, todummy_list)\n",
    "test_X_new = dummy_df(test_X, todummy_list)"
   ]
  },
  {
   "cell_type": "code",
   "execution_count": 33,
   "metadata": {},
   "outputs": [
    {
     "name": "stdout",
     "output_type": "stream",
     "text": [
      "train:  (535124, 185)\n",
      "test:  (356749, 190)\n"
     ]
    }
   ],
   "source": [
    "print(\"train: \", train_X_new.shape)\n",
    "print(\"test: \", test_X_new.shape)"
   ]
  },
  {
   "cell_type": "code",
   "execution_count": 34,
   "metadata": {},
   "outputs": [
    {
     "data": {
      "text/plain": [
       "Index(['OsVer_10.0.0.96', 'OsVer_10.0.1.144', 'OsVer_10.0.16.0',\n",
       "       'OsVer_6.3.0.16', 'Census_OSEdition_CloudN',\n",
       "       'Census_OSEdition_ProfessionalSingleLanguage',\n",
       "       'Census_OSEdition_ProfessionalWorkstationN',\n",
       "       'Census_OSEdition_ServerDatacenter', 'Census_OSSkuName_CLOUDN',\n",
       "       'Census_OSSkuName_DATACENTER_SERVER',\n",
       "       'Census_OSSkuName_PRO_SINGLE_LANGUAGE',\n",
       "       'Census_OSSkuName_PRO_WORKSTATION_N'],\n",
       "      dtype='object')"
      ]
     },
     "execution_count": 34,
     "metadata": {},
     "output_type": "execute_result"
    }
   ],
   "source": [
    "test_X_new.columns[test_X_new.columns.isin(train_X_new.columns)==False]"
   ]
  },
  {
   "cell_type": "code",
   "execution_count": 35,
   "metadata": {},
   "outputs": [],
   "source": [
    "#test.Census_DeviceFamily.value_counts()"
   ]
  },
  {
   "cell_type": "code",
   "execution_count": 36,
   "metadata": {},
   "outputs": [
    {
     "name": "stdout",
     "output_type": "stream",
     "text": [
      "['OsVer_10.0.0.96', 'OsVer_10.0.1.144', 'OsVer_10.0.16.0', 'OsVer_6.3.0.16', 'Census_OSEdition_CloudN', 'Census_OSEdition_ProfessionalSingleLanguage', 'Census_OSEdition_ProfessionalWorkstationN', 'Census_OSEdition_ServerDatacenter', 'Census_OSSkuName_CLOUDN', 'Census_OSSkuName_DATACENTER_SERVER', 'Census_OSSkuName_PRO_SINGLE_LANGUAGE', 'Census_OSSkuName_PRO_WORKSTATION_N']\n",
      "['OsVer_10.0.0.1', 'OsVer_10.0.16.36', 'OsVer_10.0.21.0', 'OsVer_10.0.5.0', 'OsVer_10.0.8.0', 'OsVer_6.3.5.0', 'Census_OSSkuName_UNLICENSED']\n"
     ]
    }
   ],
   "source": [
    "# Looks like the test set had an extra category not present in the training set, to make the code reproducible, \n",
    "# we will drop all columns in the test set that are not present in training set\n",
    "to_drop = list(test_X_new.columns[test_X_new.columns.isin(train_X_new.columns)==False].values)\n",
    "print(to_drop)\n",
    "test_X_new.drop(to_drop, axis=1, inplace=True)\n",
    "\n",
    "to_drop = list(train_X_new.columns[train_X_new.columns.isin(test_X_new.columns)==False].values)\n",
    "print(to_drop)\n",
    "train_X_new.drop(to_drop, axis=1, inplace=True)"
   ]
  },
  {
   "cell_type": "markdown",
   "metadata": {},
   "source": [
    "#### Numeric variables"
   ]
  },
  {
   "cell_type": "markdown",
   "metadata": {},
   "source": [
    "There are no more missing values in categorical variables since we have already handled them\n",
    "\n",
    "Now for the remaining columns, although they have numeric data, most of them are actually categorical based on the information provided : example CountryIdentifier, Wdft_IsGamer etc \n",
    "\n",
    "So we will replace the NAs with mode/most_frequent value for all the remaining columns"
   ]
  },
  {
   "cell_type": "code",
   "execution_count": 37,
   "metadata": {},
   "outputs": [
    {
     "name": "stdout",
     "output_type": "stream",
     "text": [
      "Index(['MachineIdentifier'], dtype='object')\n"
     ]
    }
   ],
   "source": [
    "#Checking if there are any more string variables\n",
    "print(train_X_new.columns[train_X_new.dtypes=='object'])\n",
    "\n",
    "#Separating the MachineIdentifier column from the features\n",
    "train_id = train_X_new.MachineIdentifier\n",
    "test_id = test_X_new.MachineIdentifier\n",
    "\n",
    "# Now dropping it\n",
    "train_X_new.drop(['MachineIdentifier'], axis=1, inplace=True)\n",
    "test_X_new.drop(['MachineIdentifier'], axis=1, inplace=True)"
   ]
  },
  {
   "cell_type": "code",
   "execution_count": 38,
   "metadata": {},
   "outputs": [],
   "source": [
    "# We will use SimpleImputer from scikit-learn to replace missing values of all numeric columns with most_frequent\n",
    "\n",
    "imp = SimpleImputer(missing_values=np.nan, strategy='most_frequent')\n",
    "imp.fit(train_X_new)\n",
    "train_X_new = pd.DataFrame(data=imp.transform(train_X_new) , columns=train_X_new.columns)\n",
    "\n",
    "imp.fit(test_X_new)\n",
    "test_X_new = pd.DataFrame(data=imp.transform(test_X_new) , columns=test_X_new.columns)"
   ]
  },
  {
   "cell_type": "code",
   "execution_count": 39,
   "metadata": {},
   "outputs": [
    {
     "data": {
      "text/html": [
       "<div>\n",
       "<style scoped>\n",
       "    .dataframe tbody tr th:only-of-type {\n",
       "        vertical-align: middle;\n",
       "    }\n",
       "\n",
       "    .dataframe tbody tr th {\n",
       "        vertical-align: top;\n",
       "    }\n",
       "\n",
       "    .dataframe thead th {\n",
       "        text-align: right;\n",
       "    }\n",
       "</style>\n",
       "<table border=\"1\" class=\"dataframe\">\n",
       "  <thead>\n",
       "    <tr style=\"text-align: right;\">\n",
       "      <th></th>\n",
       "      <th>IsBeta</th>\n",
       "      <th>RtpStateBitfield</th>\n",
       "      <th>IsSxsPassiveMode</th>\n",
       "      <th>AVProductStatesIdentifier</th>\n",
       "      <th>AVProductsInstalled</th>\n",
       "      <th>AVProductsEnabled</th>\n",
       "      <th>HasTpm</th>\n",
       "      <th>CountryIdentifier</th>\n",
       "      <th>CityIdentifier</th>\n",
       "      <th>OrganizationIdentifier</th>\n",
       "      <th>...</th>\n",
       "      <th>Census_GenuineStateName_OFFLINE</th>\n",
       "      <th>Census_GenuineStateName_UNKNOWN</th>\n",
       "      <th>Census_ActivationChannel_OEM:DM</th>\n",
       "      <th>Census_ActivationChannel_Others</th>\n",
       "      <th>Census_ActivationChannel_Retail</th>\n",
       "      <th>Census_ActivationChannel_Volume:GVLK</th>\n",
       "      <th>Census_FlightRing_NOT_SET</th>\n",
       "      <th>Census_FlightRing_Others</th>\n",
       "      <th>Census_FlightRing_Retail</th>\n",
       "      <th>Census_FlightRing_Unknown</th>\n",
       "    </tr>\n",
       "  </thead>\n",
       "  <tbody>\n",
       "    <tr>\n",
       "      <th>0</th>\n",
       "      <td>0.0</td>\n",
       "      <td>7.0</td>\n",
       "      <td>0.0</td>\n",
       "      <td>53447.0</td>\n",
       "      <td>1.0</td>\n",
       "      <td>1.0</td>\n",
       "      <td>1.0</td>\n",
       "      <td>201.0</td>\n",
       "      <td>15590.0</td>\n",
       "      <td>27.0</td>\n",
       "      <td>...</td>\n",
       "      <td>0.0</td>\n",
       "      <td>0.0</td>\n",
       "      <td>0.0</td>\n",
       "      <td>0.0</td>\n",
       "      <td>1.0</td>\n",
       "      <td>0.0</td>\n",
       "      <td>0.0</td>\n",
       "      <td>0.0</td>\n",
       "      <td>1.0</td>\n",
       "      <td>0.0</td>\n",
       "    </tr>\n",
       "    <tr>\n",
       "      <th>1</th>\n",
       "      <td>0.0</td>\n",
       "      <td>7.0</td>\n",
       "      <td>0.0</td>\n",
       "      <td>41571.0</td>\n",
       "      <td>2.0</td>\n",
       "      <td>1.0</td>\n",
       "      <td>1.0</td>\n",
       "      <td>3.0</td>\n",
       "      <td>69164.0</td>\n",
       "      <td>27.0</td>\n",
       "      <td>...</td>\n",
       "      <td>0.0</td>\n",
       "      <td>0.0</td>\n",
       "      <td>0.0</td>\n",
       "      <td>0.0</td>\n",
       "      <td>1.0</td>\n",
       "      <td>0.0</td>\n",
       "      <td>0.0</td>\n",
       "      <td>0.0</td>\n",
       "      <td>1.0</td>\n",
       "      <td>0.0</td>\n",
       "    </tr>\n",
       "    <tr>\n",
       "      <th>2</th>\n",
       "      <td>0.0</td>\n",
       "      <td>7.0</td>\n",
       "      <td>0.0</td>\n",
       "      <td>53447.0</td>\n",
       "      <td>1.0</td>\n",
       "      <td>1.0</td>\n",
       "      <td>1.0</td>\n",
       "      <td>12.0</td>\n",
       "      <td>142656.0</td>\n",
       "      <td>27.0</td>\n",
       "      <td>...</td>\n",
       "      <td>0.0</td>\n",
       "      <td>0.0</td>\n",
       "      <td>0.0</td>\n",
       "      <td>0.0</td>\n",
       "      <td>1.0</td>\n",
       "      <td>0.0</td>\n",
       "      <td>0.0</td>\n",
       "      <td>0.0</td>\n",
       "      <td>1.0</td>\n",
       "      <td>0.0</td>\n",
       "    </tr>\n",
       "    <tr>\n",
       "      <th>3</th>\n",
       "      <td>0.0</td>\n",
       "      <td>7.0</td>\n",
       "      <td>0.0</td>\n",
       "      <td>53447.0</td>\n",
       "      <td>1.0</td>\n",
       "      <td>1.0</td>\n",
       "      <td>1.0</td>\n",
       "      <td>53.0</td>\n",
       "      <td>60652.0</td>\n",
       "      <td>27.0</td>\n",
       "      <td>...</td>\n",
       "      <td>0.0</td>\n",
       "      <td>0.0</td>\n",
       "      <td>0.0</td>\n",
       "      <td>0.0</td>\n",
       "      <td>1.0</td>\n",
       "      <td>0.0</td>\n",
       "      <td>0.0</td>\n",
       "      <td>0.0</td>\n",
       "      <td>1.0</td>\n",
       "      <td>0.0</td>\n",
       "    </tr>\n",
       "    <tr>\n",
       "      <th>4</th>\n",
       "      <td>0.0</td>\n",
       "      <td>7.0</td>\n",
       "      <td>0.0</td>\n",
       "      <td>53447.0</td>\n",
       "      <td>1.0</td>\n",
       "      <td>1.0</td>\n",
       "      <td>1.0</td>\n",
       "      <td>93.0</td>\n",
       "      <td>36825.0</td>\n",
       "      <td>27.0</td>\n",
       "      <td>...</td>\n",
       "      <td>0.0</td>\n",
       "      <td>0.0</td>\n",
       "      <td>0.0</td>\n",
       "      <td>0.0</td>\n",
       "      <td>1.0</td>\n",
       "      <td>0.0</td>\n",
       "      <td>0.0</td>\n",
       "      <td>0.0</td>\n",
       "      <td>1.0</td>\n",
       "      <td>0.0</td>\n",
       "    </tr>\n",
       "  </tbody>\n",
       "</table>\n",
       "<p>5 rows × 177 columns</p>\n",
       "</div>"
      ],
      "text/plain": [
       "   IsBeta  RtpStateBitfield  IsSxsPassiveMode  AVProductStatesIdentifier  \\\n",
       "0     0.0               7.0               0.0                    53447.0   \n",
       "1     0.0               7.0               0.0                    41571.0   \n",
       "2     0.0               7.0               0.0                    53447.0   \n",
       "3     0.0               7.0               0.0                    53447.0   \n",
       "4     0.0               7.0               0.0                    53447.0   \n",
       "\n",
       "   AVProductsInstalled  AVProductsEnabled  HasTpm  CountryIdentifier  \\\n",
       "0                  1.0                1.0     1.0              201.0   \n",
       "1                  2.0                1.0     1.0                3.0   \n",
       "2                  1.0                1.0     1.0               12.0   \n",
       "3                  1.0                1.0     1.0               53.0   \n",
       "4                  1.0                1.0     1.0               93.0   \n",
       "\n",
       "   CityIdentifier  OrganizationIdentifier  ...  \\\n",
       "0         15590.0                    27.0  ...   \n",
       "1         69164.0                    27.0  ...   \n",
       "2        142656.0                    27.0  ...   \n",
       "3         60652.0                    27.0  ...   \n",
       "4         36825.0                    27.0  ...   \n",
       "\n",
       "   Census_GenuineStateName_OFFLINE  Census_GenuineStateName_UNKNOWN  \\\n",
       "0                              0.0                              0.0   \n",
       "1                              0.0                              0.0   \n",
       "2                              0.0                              0.0   \n",
       "3                              0.0                              0.0   \n",
       "4                              0.0                              0.0   \n",
       "\n",
       "   Census_ActivationChannel_OEM:DM  Census_ActivationChannel_Others  \\\n",
       "0                              0.0                              0.0   \n",
       "1                              0.0                              0.0   \n",
       "2                              0.0                              0.0   \n",
       "3                              0.0                              0.0   \n",
       "4                              0.0                              0.0   \n",
       "\n",
       "   Census_ActivationChannel_Retail  Census_ActivationChannel_Volume:GVLK  \\\n",
       "0                              1.0                                   0.0   \n",
       "1                              1.0                                   0.0   \n",
       "2                              1.0                                   0.0   \n",
       "3                              1.0                                   0.0   \n",
       "4                              1.0                                   0.0   \n",
       "\n",
       "   Census_FlightRing_NOT_SET  Census_FlightRing_Others  \\\n",
       "0                        0.0                       0.0   \n",
       "1                        0.0                       0.0   \n",
       "2                        0.0                       0.0   \n",
       "3                        0.0                       0.0   \n",
       "4                        0.0                       0.0   \n",
       "\n",
       "   Census_FlightRing_Retail  Census_FlightRing_Unknown  \n",
       "0                       1.0                        0.0  \n",
       "1                       1.0                        0.0  \n",
       "2                       1.0                        0.0  \n",
       "3                       1.0                        0.0  \n",
       "4                       1.0                        0.0  \n",
       "\n",
       "[5 rows x 177 columns]"
      ]
     },
     "execution_count": 39,
     "metadata": {},
     "output_type": "execute_result"
    }
   ],
   "source": [
    "test_X_new.head()"
   ]
  },
  {
   "cell_type": "code",
   "execution_count": 40,
   "metadata": {},
   "outputs": [
    {
     "data": {
      "text/html": [
       "<div>\n",
       "<style scoped>\n",
       "    .dataframe tbody tr th:only-of-type {\n",
       "        vertical-align: middle;\n",
       "    }\n",
       "\n",
       "    .dataframe tbody tr th {\n",
       "        vertical-align: top;\n",
       "    }\n",
       "\n",
       "    .dataframe thead th {\n",
       "        text-align: right;\n",
       "    }\n",
       "</style>\n",
       "<table border=\"1\" class=\"dataframe\">\n",
       "  <thead>\n",
       "    <tr style=\"text-align: right;\">\n",
       "      <th></th>\n",
       "      <th>IsBeta</th>\n",
       "      <th>RtpStateBitfield</th>\n",
       "      <th>IsSxsPassiveMode</th>\n",
       "      <th>AVProductStatesIdentifier</th>\n",
       "      <th>AVProductsInstalled</th>\n",
       "      <th>AVProductsEnabled</th>\n",
       "      <th>HasTpm</th>\n",
       "      <th>CountryIdentifier</th>\n",
       "      <th>CityIdentifier</th>\n",
       "      <th>OrganizationIdentifier</th>\n",
       "      <th>...</th>\n",
       "      <th>Census_GenuineStateName_OFFLINE</th>\n",
       "      <th>Census_GenuineStateName_UNKNOWN</th>\n",
       "      <th>Census_ActivationChannel_OEM:DM</th>\n",
       "      <th>Census_ActivationChannel_Others</th>\n",
       "      <th>Census_ActivationChannel_Retail</th>\n",
       "      <th>Census_ActivationChannel_Volume:GVLK</th>\n",
       "      <th>Census_FlightRing_NOT_SET</th>\n",
       "      <th>Census_FlightRing_Others</th>\n",
       "      <th>Census_FlightRing_Retail</th>\n",
       "      <th>Census_FlightRing_Unknown</th>\n",
       "    </tr>\n",
       "  </thead>\n",
       "  <tbody>\n",
       "    <tr>\n",
       "      <th>0</th>\n",
       "      <td>0.0</td>\n",
       "      <td>7.0</td>\n",
       "      <td>0.0</td>\n",
       "      <td>53447.0</td>\n",
       "      <td>1.0</td>\n",
       "      <td>1.0</td>\n",
       "      <td>1.0</td>\n",
       "      <td>43.0</td>\n",
       "      <td>12607.0</td>\n",
       "      <td>18.0</td>\n",
       "      <td>...</td>\n",
       "      <td>0.0</td>\n",
       "      <td>0.0</td>\n",
       "      <td>0.0</td>\n",
       "      <td>0.0</td>\n",
       "      <td>1.0</td>\n",
       "      <td>0.0</td>\n",
       "      <td>0.0</td>\n",
       "      <td>0.0</td>\n",
       "      <td>1.0</td>\n",
       "      <td>0.0</td>\n",
       "    </tr>\n",
       "    <tr>\n",
       "      <th>1</th>\n",
       "      <td>0.0</td>\n",
       "      <td>7.0</td>\n",
       "      <td>0.0</td>\n",
       "      <td>53447.0</td>\n",
       "      <td>1.0</td>\n",
       "      <td>1.0</td>\n",
       "      <td>1.0</td>\n",
       "      <td>60.0</td>\n",
       "      <td>2414.0</td>\n",
       "      <td>27.0</td>\n",
       "      <td>...</td>\n",
       "      <td>0.0</td>\n",
       "      <td>0.0</td>\n",
       "      <td>1.0</td>\n",
       "      <td>0.0</td>\n",
       "      <td>0.0</td>\n",
       "      <td>0.0</td>\n",
       "      <td>1.0</td>\n",
       "      <td>0.0</td>\n",
       "      <td>0.0</td>\n",
       "      <td>0.0</td>\n",
       "    </tr>\n",
       "    <tr>\n",
       "      <th>2</th>\n",
       "      <td>0.0</td>\n",
       "      <td>7.0</td>\n",
       "      <td>0.0</td>\n",
       "      <td>53447.0</td>\n",
       "      <td>1.0</td>\n",
       "      <td>1.0</td>\n",
       "      <td>1.0</td>\n",
       "      <td>41.0</td>\n",
       "      <td>32973.0</td>\n",
       "      <td>27.0</td>\n",
       "      <td>...</td>\n",
       "      <td>0.0</td>\n",
       "      <td>0.0</td>\n",
       "      <td>1.0</td>\n",
       "      <td>0.0</td>\n",
       "      <td>0.0</td>\n",
       "      <td>0.0</td>\n",
       "      <td>0.0</td>\n",
       "      <td>0.0</td>\n",
       "      <td>1.0</td>\n",
       "      <td>0.0</td>\n",
       "    </tr>\n",
       "    <tr>\n",
       "      <th>3</th>\n",
       "      <td>0.0</td>\n",
       "      <td>7.0</td>\n",
       "      <td>0.0</td>\n",
       "      <td>53447.0</td>\n",
       "      <td>1.0</td>\n",
       "      <td>1.0</td>\n",
       "      <td>1.0</td>\n",
       "      <td>51.0</td>\n",
       "      <td>40629.0</td>\n",
       "      <td>27.0</td>\n",
       "      <td>...</td>\n",
       "      <td>0.0</td>\n",
       "      <td>0.0</td>\n",
       "      <td>1.0</td>\n",
       "      <td>0.0</td>\n",
       "      <td>0.0</td>\n",
       "      <td>0.0</td>\n",
       "      <td>0.0</td>\n",
       "      <td>0.0</td>\n",
       "      <td>1.0</td>\n",
       "      <td>0.0</td>\n",
       "    </tr>\n",
       "    <tr>\n",
       "      <th>4</th>\n",
       "      <td>0.0</td>\n",
       "      <td>7.0</td>\n",
       "      <td>0.0</td>\n",
       "      <td>53447.0</td>\n",
       "      <td>1.0</td>\n",
       "      <td>1.0</td>\n",
       "      <td>1.0</td>\n",
       "      <td>44.0</td>\n",
       "      <td>20554.0</td>\n",
       "      <td>27.0</td>\n",
       "      <td>...</td>\n",
       "      <td>0.0</td>\n",
       "      <td>0.0</td>\n",
       "      <td>1.0</td>\n",
       "      <td>0.0</td>\n",
       "      <td>0.0</td>\n",
       "      <td>0.0</td>\n",
       "      <td>0.0</td>\n",
       "      <td>0.0</td>\n",
       "      <td>1.0</td>\n",
       "      <td>0.0</td>\n",
       "    </tr>\n",
       "  </tbody>\n",
       "</table>\n",
       "<p>5 rows × 177 columns</p>\n",
       "</div>"
      ],
      "text/plain": [
       "   IsBeta  RtpStateBitfield  IsSxsPassiveMode  AVProductStatesIdentifier  \\\n",
       "0     0.0               7.0               0.0                    53447.0   \n",
       "1     0.0               7.0               0.0                    53447.0   \n",
       "2     0.0               7.0               0.0                    53447.0   \n",
       "3     0.0               7.0               0.0                    53447.0   \n",
       "4     0.0               7.0               0.0                    53447.0   \n",
       "\n",
       "   AVProductsInstalled  AVProductsEnabled  HasTpm  CountryIdentifier  \\\n",
       "0                  1.0                1.0     1.0               43.0   \n",
       "1                  1.0                1.0     1.0               60.0   \n",
       "2                  1.0                1.0     1.0               41.0   \n",
       "3                  1.0                1.0     1.0               51.0   \n",
       "4                  1.0                1.0     1.0               44.0   \n",
       "\n",
       "   CityIdentifier  OrganizationIdentifier  ...  \\\n",
       "0         12607.0                    18.0  ...   \n",
       "1          2414.0                    27.0  ...   \n",
       "2         32973.0                    27.0  ...   \n",
       "3         40629.0                    27.0  ...   \n",
       "4         20554.0                    27.0  ...   \n",
       "\n",
       "   Census_GenuineStateName_OFFLINE  Census_GenuineStateName_UNKNOWN  \\\n",
       "0                              0.0                              0.0   \n",
       "1                              0.0                              0.0   \n",
       "2                              0.0                              0.0   \n",
       "3                              0.0                              0.0   \n",
       "4                              0.0                              0.0   \n",
       "\n",
       "   Census_ActivationChannel_OEM:DM  Census_ActivationChannel_Others  \\\n",
       "0                              0.0                              0.0   \n",
       "1                              1.0                              0.0   \n",
       "2                              1.0                              0.0   \n",
       "3                              1.0                              0.0   \n",
       "4                              1.0                              0.0   \n",
       "\n",
       "   Census_ActivationChannel_Retail  Census_ActivationChannel_Volume:GVLK  \\\n",
       "0                              1.0                                   0.0   \n",
       "1                              0.0                                   0.0   \n",
       "2                              0.0                                   0.0   \n",
       "3                              0.0                                   0.0   \n",
       "4                              0.0                                   0.0   \n",
       "\n",
       "   Census_FlightRing_NOT_SET  Census_FlightRing_Others  \\\n",
       "0                        0.0                       0.0   \n",
       "1                        1.0                       0.0   \n",
       "2                        0.0                       0.0   \n",
       "3                        0.0                       0.0   \n",
       "4                        0.0                       0.0   \n",
       "\n",
       "   Census_FlightRing_Retail  Census_FlightRing_Unknown  \n",
       "0                       1.0                        0.0  \n",
       "1                       0.0                        0.0  \n",
       "2                       1.0                        0.0  \n",
       "3                       1.0                        0.0  \n",
       "4                       1.0                        0.0  \n",
       "\n",
       "[5 rows x 177 columns]"
      ]
     },
     "execution_count": 40,
     "metadata": {},
     "output_type": "execute_result"
    }
   ],
   "source": [
    "train_X_new.head()"
   ]
  },
  {
   "cell_type": "code",
   "execution_count": 41,
   "metadata": {},
   "outputs": [],
   "source": [
    "# USING LOGISTIC REGRESSION TO FIT EACH FEATURE ONE BY ONE; WE CAN CALCULATE THE AUC ON EACH FEATURE FOR THE TRAINING DATA\n",
    "\n",
    "# Define the function score that will be used to assess the accuracy of each feature\n",
    "\n",
    "def score (dataSet: DataFrame, withModel: LogisticRegression, feature: str):\n",
    "    dataSet[f\"p donation {feature}\"] = DataFrame(withModel.predict_proba(dataSet[[feature]]))[1]\n",
    "\n",
    "# Define the function buildLogisticRegression that will be used to instanciate and train a logistic model\n",
    "\n",
    "def buildLogisticRegression (onDataSet: DataFrame, forVariable: str, target: str) -> LogisticRegression:\n",
    "    # 1.\n",
    "    logisticRegressionModel = LogisticRegression(solver = \"lbfgs\", max_iter = 500)\n",
    "    # 2.\n",
    "    logisticRegressionModel.fit(onDataSet[[forVariable]], onDataSet[target])\n",
    "    # 3. \n",
    "    return logisticRegressionModel\n",
    "\n",
    "# Create two empty lists where the AUC's (for each feature in the feature list) of the training and test sets will be stored"
   ]
  },
  {
   "cell_type": "code",
   "execution_count": 42,
   "metadata": {},
   "outputs": [],
   "source": [
    "train_X_new['churn'] = train_y.values\n",
    "test_X_new['churn'] = test_y.values"
   ]
  },
  {
   "cell_type": "code",
   "execution_count": 43,
   "metadata": {},
   "outputs": [
    {
     "name": "stdout",
     "output_type": "stream",
     "text": [
      "(535124, 178)\n",
      "(535124,)\n",
      "(356749, 178)\n",
      "(356749,)\n"
     ]
    }
   ],
   "source": [
    "print(train_X_new.shape)\n",
    "print(train_y.shape)\n",
    "\n",
    "print(test_X_new.shape)\n",
    "print(test_y.shape)"
   ]
  },
  {
   "cell_type": "code",
   "execution_count": 44,
   "metadata": {},
   "outputs": [],
   "source": [
    "train_X_new.columns = train_X_new.columns.str.replace(\":\", \"_\")\n",
    "test_X_new.columns = test_X_new.columns.str.replace(\":\", \"_\")"
   ]
  },
  {
   "cell_type": "markdown",
   "metadata": {},
   "source": [
    "### Feature Selection"
   ]
  },
  {
   "cell_type": "code",
   "execution_count": 45,
   "metadata": {},
   "outputs": [],
   "source": [
    "#features = []\n",
    "#features = train_X_new.columns.tolist()\n",
    "#features.remove('churn')\n",
    "#features.remove('cust_id')\n",
    "#features1 = features\n",
    "#features = features[100:]\n",
    "#target = 'churn'"
   ]
  },
  {
   "cell_type": "code",
   "execution_count": 46,
   "metadata": {},
   "outputs": [],
   "source": [
    "# CALCULATING THE AUC FOR EACH FEATURE ON TEH LOGISTIC REGRESSION MODEL. WE KEEP THE FEATURES THAT HAVE AUC ABOVE 0.55\n",
    "#aucsTrain = []\n",
    "#aucsTest  = []\n",
    "#for feature in features:\n",
    "#    mod = buildLogisticRegression(onDataSet = train_X_new, forVariable = feature, target = target)\n",
    "#    score(dataSet =  train_X_new, withModel = mod, feature = feature)\n",
    "#    score(dataSet =  train_X_new, withModel = mod, feature = feature)\n",
    "    \n",
    "#    aucsTrain.append(roc_auc_score(array(train_X_new[target]),array(train_X_new[f\"p donation {feature}\"])))\n",
    "#    aucsTest.append(roc_auc_score(array(train_X_new[target]),array(train_X_new[f\"p donation {feature}\"])))\n",
    "\n",
    "#aucs = {\"features\":features,\"training\":aucsTrain,\"test\":aucsTest}\n",
    "\n",
    "\n",
    "#df_aucs = DataFrame(aucs).sort_values(by=[\"test\"], ascending = False)\n",
    "#df_aucs['to_keep'] = 1\n",
    "#df_aucs.loc[df_aucs['test'] <= 0.5, 'to_keep'] = 0\n",
    "\n",
    "#df_aucs"
   ]
  },
  {
   "cell_type": "code",
   "execution_count": 47,
   "metadata": {},
   "outputs": [],
   "source": [
    "#features = list(df_aucs.loc[df_aucs['to_keep'] == 1, 'features'].values)\n"
   ]
  },
  {
   "cell_type": "code",
   "execution_count": 48,
   "metadata": {},
   "outputs": [],
   "source": [
    "#features"
   ]
  },
  {
   "cell_type": "markdown",
   "metadata": {},
   "source": [
    "'AVProductsInstalled',\n",
    " 'Census_TotalPhysicalRAM',\n",
    " 'AVProductStatesIdentifier',\n",
    " 'Census_ProcessorCoreCount',\n",
    " 'Census_PrimaryDiskTotalCapacity',\n",
    " 'Census_InternalPrimaryDiagonalDisplaySizeInInches',\n",
    " 'Census_ProcessorModelIdentifier',\n",
    " 'Census_InternalPrimaryDisplayResolutionHorizontal',\n",
    " 'Wdft_IsGamer',\n",
    " 'Census_OSBuildNumber',\n",
    " 'OsBuild',\n",
    " 'IeVerIdentifier',\n",
    " 'Census_OSBuildRevision',\n",
    " 'Census_IsAlwaysOnAlwaysConnectedCapable',\n",
    " 'Census_IsTouchEnabled',\n",
    " 'Census_SystemVolumeTotalCapacity',\n",
    " 'IsProtected',\n",
    " 'OsSuite',\n",
    " 'Census_FirmwareManufacturerIdentifier',\n",
    " 'Census_OEMNameIdentifier',\n",
    " 'Census_InternalPrimaryDisplayResolutionVertical',\n",
    " 'RtpStateBitfield',\n",
    " 'LocaleEnglishNameIdentifier',\n",
    " 'AVProductsEnabled',\n",
    " 'Census_HasOpticalDiskDrive',\n",
    " 'IsSxsPassiveMode',\n",
    " 'Census_InternalBatteryNumberOfCharges',\n",
    " 'Census_OSUILocaleIdentifier',\n",
    " 'Census_IsVirtualDevice',\n",
    " 'Census_OSInstallLanguageIdentifier',\n",
    " 'CountryIdentifier',\n",
    " 'GeoNameIdentifier',\n",
    " 'Census_IsPenCapable',\n",
    " 'Census_ProcessorManufacturerIdentifier',\n",
    " 'CityIdentifier',\n",
    " 'Census_OEMModelIdentifier',\n",
    " 'Census_FirmwareVersionIdentifier',\n",
    " 'Census_IsSecureBootEnabled',\n",
    " 'HasTpm',\n",
    " 'Firewall',\n",
    " 'SMode',\n",
    " 'Census_IsPortableOperatingSystem',\n",
    " 'Census_IsFlightsDisabled',\n",
    " 'AutoSampleOptIn',\n",
    " 'Census_ThresholdOptIn'\n",
    " 'SmartScreen_ExistsNotSet',\n",
    " 'SmartScreen_RequireAdmin',\n",
    " 'Processor_Others',\n",
    " 'Processor_x64',\n",
    " 'Census_OSArchitecture_amd64',\n",
    " 'Census_OSArchitecture_Others',\n",
    " 'Census_OSBranch_rs4_release',\n",
    " 'OsPlatformSubRelease_rs4',\n",
    " 'Census_PowerPlatformRoleName_Slate',\n",
    " 'Wdft_RegionIdentifier',\n",
    " 'SmartScreen_Missing',\n",
    " 'Census_PowerPlatformRoleName_Desktop',\n",
    " 'Census_MDC2FormFactor_Desktop',\n",
    " 'SkuEdition_Pro',\n",
    " 'Census_OSBranch_rs3_release',\n",
    " 'SkuEdition_Home',\n",
    " 'Census_PrimaryDiskTypeName_HDD',\n",
    " 'Census_MDC2FormFactor_Detachable',\n",
    " 'Census_OSBranch_rs1_release',\n",
    " 'OsPlatformSubRelease_rs1',\n",
    " 'Census_MDC2FormFactor_Others',\n",
    " 'OsPlatformSubRelease_rs3',\n",
    " 'Census_OSBranch_rs3_release_svc_escrow',\n",
    " 'Census_PrimaryDiskTypeName_UNKNOWN',\n",
    " 'Census_OSBranch_rs2_release',\n",
    " 'OsPlatformSubRelease_rs2',\n",
    " 'Census_MDC2FormFactor_Notebook',\n",
    " 'Census_PowerPlatformRoleName_Mobile',\n",
    " 'Census_PrimaryDiskTypeName_Unspecified',\n",
    " 'OsPlatformSubRelease_th2',\n",
    " 'SmartScreen_Others',\n",
    " 'Census_PrimaryDiskTypeName_SSD',\n",
    " 'Census_OSBranch_Others',\n",
    " 'Census_MDC2FormFactor_AllInOne',\n",
    " 'OsPlatformSubRelease_th1',\n",
    " 'Census_PowerPlatformRoleName_Others',\n",
    " 'OsPlatformSubRelease_windows8.1',\n",
    " 'Census_DeviceFamily_Windows.Desktop',\n",
    " 'Census_DeviceFamily_Windows.Server',\n",
    " 'Census_PowerPlatformRoleName_Workstation',\n",
    " 'OsPlatformSubRelease_prers5',\n",
    " 'Census_MDC2FormFactor_PCOther',\n",
    " 'Census_OSBranch_th1_st1',\n",
    " 'Census_MDC2FormFactor_Convertible',\n",
    " 'SkuEdition_Others',\n",
    " 'ProductName_Others',\n",
    " 'ProductName_win8defender',\n",
    " 'OsPlatformSubRelease_windows7',\n",
    " 'Platform_windows10',\n",
    " 'Platform_Others'\n",
    " 'Census_OSInstallTypeName_UUPUpgrade',\n",
    " 'Census_OSWUAutoUpdateOptionsName_FullAuto',\n",
    " 'Census_OSWUAutoUpdateOptionsName_Notify',\n",
    " 'Census_ActivationChannel_Volume:GVLK',\n",
    " 'Census_OSInstallTypeName_IBSClean',\n",
    " 'Census_ActivationChannel_Retail',\n",
    " 'Census_OSInstallTypeName_Update',\n",
    " 'Census_OSInstallTypeName_Upgrade',\n",
    " 'Census_OSInstallTypeName_Other',\n",
    " 'Census_OSInstallTypeName_Reset',\n",
    " 'Census_OSBranch_th2_release_sec',\n",
    " 'Census_ActivationChannel_OEM:DM',\n",
    " 'Census_GenuineStateName_OFFLINE',\n",
    " 'Census_FlightRing_Retail',\n",
    " 'Census_OSWUAutoUpdateOptionsName_UNKNOWN',\n",
    " 'Census_OSInstallTypeName_Refresh',\n",
    " 'Census_FlightRing_Unknown',\n",
    " 'Census_OSWUAutoUpdateOptionsName_Others',\n",
    " 'Census_GenuineStateName_INVALID_LICENSE',\n",
    " 'Census_ActivationChannel_Others',\n",
    " 'Census_GenuineStateName_UNKNOWN',\n",
    " 'Census_OSInstallTypeName_CleanPCRefresh',\n",
    " 'Census_FlightRing_Others',\n",
    " 'Census_OSBranch_th2_release',\n",
    " 'Census_FlightRing_NOT_SET',\n",
    " 'Census_OSInstallTypeName_Clean',\n",
    " 'Census_GenuineStateName_IS_GENUINE'"
   ]
  },
  {
   "cell_type": "code",
   "execution_count": 49,
   "metadata": {},
   "outputs": [],
   "source": [
    "features = ['AVProductsInstalled', 'Census_TotalPhysicalRAM', 'AVProductStatesIdentifier', \n",
    "            'Census_ProcessorCoreCount', 'Census_PrimaryDiskTotalCapacity', \n",
    "            'Census_InternalPrimaryDiagonalDisplaySizeInInches', 'Census_ProcessorModelIdentifier', \n",
    "            'Census_InternalPrimaryDisplayResolutionHorizontal', 'Wdft_IsGamer', 'Census_OSBuildNumber', \n",
    "            'OsBuild', 'IeVerIdentifier', 'Census_OSBuildRevision', 'Census_IsAlwaysOnAlwaysConnectedCapable', \n",
    "            'Census_IsTouchEnabled', 'Census_SystemVolumeTotalCapacity', 'IsProtected', 'OsSuite', \n",
    "            'Census_FirmwareManufacturerIdentifier', 'Census_OEMNameIdentifier', \n",
    "            'Census_InternalPrimaryDisplayResolutionVertical', 'RtpStateBitfield', 'LocaleEnglishNameIdentifier', \n",
    "            'AVProductsEnabled', 'Census_HasOpticalDiskDrive', 'IsSxsPassiveMode', \n",
    "            'Census_InternalBatteryNumberOfCharges', 'Census_OSUILocaleIdentifier', 'Census_IsVirtualDevice', \n",
    "            'Census_OSInstallLanguageIdentifier', 'CountryIdentifier', 'GeoNameIdentifier', 'Census_IsPenCapable', \n",
    "            'Census_ProcessorManufacturerIdentifier', 'CityIdentifier', 'Census_OEMModelIdentifier', \n",
    "            'Census_FirmwareVersionIdentifier', 'Census_IsSecureBootEnabled', 'HasTpm', 'Firewall', 'SMode', \n",
    "            'Census_IsPortableOperatingSystem', 'Census_IsFlightsDisabled', 'AutoSampleOptIn', \n",
    "            'Census_ThresholdOptIn' 'SmartScreen_ExistsNotSet', 'SmartScreen_RequireAdmin', 'Processor_Others', \n",
    "            'Processor_x64', 'Census_OSArchitecture_amd64', 'Census_OSArchitecture_Others', \n",
    "            'Census_OSBranch_rs4_release', 'OsPlatformSubRelease_rs4', 'Census_PowerPlatformRoleName_Slate', \n",
    "            'Wdft_RegionIdentifier', 'SmartScreen_Missing', 'Census_PowerPlatformRoleName_Desktop', \n",
    "            'Census_MDC2FormFactor_Desktop', 'SkuEdition_Pro', 'Census_OSBranch_rs3_release', 'SkuEdition_Home', \n",
    "            'Census_PrimaryDiskTypeName_HDD', 'Census_MDC2FormFactor_Detachable', 'Census_OSBranch_rs1_release', \n",
    "            'OsPlatformSubRelease_rs1', 'Census_MDC2FormFactor_Others', 'OsPlatformSubRelease_rs3', \n",
    "            'Census_OSBranch_rs3_release_svc_escrow', 'Census_PrimaryDiskTypeName_UNKNOWN', \n",
    "            'Census_OSBranch_rs2_release', 'OsPlatformSubRelease_rs2', 'Census_MDC2FormFactor_Notebook', \n",
    "            'Census_PowerPlatformRoleName_Mobile', 'Census_PrimaryDiskTypeName_Unspecified', \n",
    "            'OsPlatformSubRelease_th2', 'SmartScreen_Others', 'Census_PrimaryDiskTypeName_SSD', \n",
    "            'Census_OSBranch_Others', 'Census_MDC2FormFactor_AllInOne', 'OsPlatformSubRelease_th1', \n",
    "            'Census_PowerPlatformRoleName_Others', 'OsPlatformSubRelease_windows8.1', \n",
    "            'Census_DeviceFamily_Windows.Desktop', 'Census_DeviceFamily_Windows.Server', \n",
    "            'Census_PowerPlatformRoleName_Workstation', 'OsPlatformSubRelease_prers5', \n",
    "            'Census_MDC2FormFactor_PCOther', 'Census_OSBranch_th1_st1', 'Census_MDC2FormFactor_Convertible', \n",
    "            'SkuEdition_Others', 'ProductName_Others', 'ProductName_win8defender', 'OsPlatformSubRelease_windows7', \n",
    "            'Platform_windows10', 'Platform_Others' 'Census_OSInstallTypeName_UUPUpgrade', \n",
    "            'Census_OSWUAutoUpdateOptionsName_FullAuto', 'Census_OSWUAutoUpdateOptionsName_Notify', \n",
    "            'Census_ActivationChannel_Volume_GVLK', 'Census_OSInstallTypeName_IBSClean', \n",
    "            'Census_ActivationChannel_Retail', 'Census_OSInstallTypeName_Update', \n",
    "            'Census_OSInstallTypeName_Upgrade', 'Census_OSInstallTypeName_Other', 'Census_OSInstallTypeName_Reset', \n",
    "            'Census_OSBranch_th2_release_sec', 'Census_ActivationChannel_OEM_DM', \n",
    "            'Census_GenuineStateName_OFFLINE', 'Census_FlightRing_Retail', \n",
    "            'Census_OSWUAutoUpdateOptionsName_UNKNOWN', 'Census_OSInstallTypeName_Refresh', \n",
    "            'Census_FlightRing_Unknown', 'Census_OSWUAutoUpdateOptionsName_Others', \n",
    "            'Census_GenuineStateName_INVALID_LICENSE', 'Census_ActivationChannel_Others', \n",
    "            'Census_GenuineStateName_UNKNOWN', 'Census_OSInstallTypeName_CleanPCRefresh', \n",
    "            'Census_FlightRing_Others', 'Census_OSBranch_th2_release', 'Census_FlightRing_NOT_SET', \n",
    "            'Census_OSInstallTypeName_Clean', 'Census_GenuineStateName_IS_GENUINE']"
   ]
  },
  {
   "cell_type": "code",
   "execution_count": 50,
   "metadata": {},
   "outputs": [],
   "source": [
    "features.remove('Platform_OthersCensus_OSInstallTypeName_UUPUpgrade')\n",
    "features.remove('Census_ThresholdOptInSmartScreen_ExistsNotSet')"
   ]
  },
  {
   "cell_type": "code",
   "execution_count": 51,
   "metadata": {},
   "outputs": [],
   "source": [
    "y = train_y"
   ]
  },
  {
   "cell_type": "code",
   "execution_count": 52,
   "metadata": {},
   "outputs": [],
   "source": [
    "x = train_X_new[features]"
   ]
  },
  {
   "cell_type": "code",
   "execution_count": 53,
   "metadata": {},
   "outputs": [],
   "source": [
    "X_train, X_test, y_train, y_test = train_test_split(x,y,test_size=.3, random_state = 123)"
   ]
  },
  {
   "cell_type": "code",
   "execution_count": 54,
   "metadata": {},
   "outputs": [],
   "source": [
    "tree         = DecisionTreeClassifier()\n",
    "logistic     = LogisticRegression(solver = \"lbfgs\", max_iter = 500)\n",
    "randomForest = RandomForestClassifier(n_estimators = 100)\n",
    "boostedTree  = GradientBoostingClassifier()\n",
    "svm          = SVC(gamma = \"scale\", probability = True)"
   ]
  },
  {
   "cell_type": "code",
   "execution_count": 55,
   "metadata": {},
   "outputs": [],
   "source": [
    "models = {\"tree\"         :tree,\n",
    "          \"logistic\"     :logistic,\n",
    "          \"boostedTree\"  :boostedTree,\n",
    "          \"randomForest\" :randomForest\n",
    "         }"
   ]
  },
  {
   "cell_type": "code",
   "execution_count": 56,
   "metadata": {},
   "outputs": [
    {
     "name": "stdout",
     "output_type": "stream",
     "text": [
      "tree has been trained successfully\n",
      "logistic has been trained successfully\n",
      "boostedTree has been trained successfully\n",
      "randomForest has been trained successfully\n"
     ]
    }
   ],
   "source": [
    "for model in models:\n",
    "    models[model].fit(X_train,y_train)\n",
    "    print(f\"{model} has been trained successfully\")"
   ]
  },
  {
   "cell_type": "code",
   "execution_count": 57,
   "metadata": {},
   "outputs": [
    {
     "data": {
      "image/png": "[encoded data removed]",
      "text/plain": [
       "<Figure size 432x288 with 1 Axes>"
      ]
     },
     "metadata": {
      "needs_background": "light"
     },
     "output_type": "display_data"
    },
    {
     "data": {
      "image/png": "[encoded data removed]",
      "text/plain": [
       "<Figure size 432x288 with 1 Axes>"
      ]
     },
     "metadata": {
      "needs_background": "light"
     },
     "output_type": "display_data"
    },
    {
     "data": {
      "image/png": "[encoded data removed]",
      "text/plain": [
       "<Figure size 432x288 with 1 Axes>"
      ]
     },
     "metadata": {
      "needs_background": "light"
     },
     "output_type": "display_data"
    },
    {
     "data": {
      "image/png": "[encoded data removed]",
      "text/plain": [
       "<Figure size 432x288 with 1 Axes>"
      ]
     },
     "metadata": {
      "needs_background": "light"
     },
     "output_type": "display_data"
    }
   ],
   "source": [
    "performances_train = {}\n",
    "\n",
    "\n",
    "for model in models:\n",
    "    predictions   = models[model].predict(X_test)\n",
    "    probabilities = DataFrame(models[model].predict_proba(X_test))[1]\n",
    "    accuracy      = accuracy_score(y_test,predictions)\n",
    "    auc           = roc_auc_score(array(y_test),array(probabilities))\n",
    "#    precision     = precision_recall_fscore_support(array(y_train), array(probabilities), average='macro')\n",
    "    performances_train[model] = {\"Accuracy\":accuracy,\"AUC\":auc}\n",
    "    fpr, tpr, _ = roc_curve(y_test, array(probabilities))\n",
    "    plt.plot(fpr, tpr, marker='.', label=model)\n",
    "# axis labelsµ\n",
    "    plt.xlabel('False Positive Rate')\n",
    "    plt.ylabel('True Positive Rate')\n",
    "# show the legend\n",
    "    plt.legend()\n",
    "# show the plot\n",
    "    plt.show()"
   ]
  },
  {
   "cell_type": "code",
   "execution_count": 58,
   "metadata": {
    "scrolled": true
   },
   "outputs": [
    {
     "data": {
      "text/html": [
       "<div>\n",
       "<style scoped>\n",
       "    .dataframe tbody tr th:only-of-type {\n",
       "        vertical-align: middle;\n",
       "    }\n",
       "\n",
       "    .dataframe tbody tr th {\n",
       "        vertical-align: top;\n",
       "    }\n",
       "\n",
       "    .dataframe thead th {\n",
       "        text-align: right;\n",
       "    }\n",
       "</style>\n",
       "<table border=\"1\" class=\"dataframe\">\n",
       "  <thead>\n",
       "    <tr style=\"text-align: right;\">\n",
       "      <th></th>\n",
       "      <th>tree</th>\n",
       "      <th>logistic</th>\n",
       "      <th>boostedTree</th>\n",
       "      <th>randomForest</th>\n",
       "    </tr>\n",
       "  </thead>\n",
       "  <tbody>\n",
       "    <tr>\n",
       "      <th>Accuracy</th>\n",
       "      <td>0.559699</td>\n",
       "      <td>0.500118</td>\n",
       "      <td>0.624656</td>\n",
       "      <td>0.623634</td>\n",
       "    </tr>\n",
       "    <tr>\n",
       "      <th>AUC</th>\n",
       "      <td>0.559738</td>\n",
       "      <td>0.521787</td>\n",
       "      <td>0.681540</td>\n",
       "      <td>0.675665</td>\n",
       "    </tr>\n",
       "  </tbody>\n",
       "</table>\n",
       "</div>"
      ],
      "text/plain": [
       "              tree  logistic  boostedTree  randomForest\n",
       "Accuracy  0.559699  0.500118     0.624656      0.623634\n",
       "AUC       0.559738  0.521787     0.681540      0.675665"
      ]
     },
     "execution_count": 58,
     "metadata": {},
     "output_type": "execute_result"
    }
   ],
   "source": [
    "DataFrame(performances_train)"
   ]
  },
  {
   "cell_type": "code",
   "execution_count": 59,
   "metadata": {},
   "outputs": [],
   "source": [
    "# neighbours? which one do we select since we're removing neighbours\n",
    "#model = boostedTree\n",
    "#model.fit(train_X_new ,train_y)"
   ]
  },
  {
   "cell_type": "code",
   "execution_count": 60,
   "metadata": {},
   "outputs": [],
   "source": [
    "#model = GradientBoostingClassifier(n_estimators = 400, max_depth = 3, learning_rate = 0.01, subsample = 0.618)\n",
    "#model.fit(X_train, y_train)"
   ]
  },
  {
   "cell_type": "code",
   "execution_count": 61,
   "metadata": {},
   "outputs": [],
   "source": [
    "#performances_train = {}\n",
    "\n",
    "#predictions   = model.predict(X_train)\n",
    "#probabilities = DataFrame(model.predict_proba(X_train))[1]\n",
    "#accuracy      = accuracy_score(y_train,predictions)\n",
    "#auc           = roc_auc_score(array(y_train),array(probabilities))\n",
    "    \n",
    "#performances_train[model] = {\"Accuracy\":accuracy,\"AUC\":auc}"
   ]
  },
  {
   "cell_type": "code",
   "execution_count": 62,
   "metadata": {},
   "outputs": [],
   "source": [
    "#model"
   ]
  },
  {
   "cell_type": "code",
   "execution_count": 63,
   "metadata": {},
   "outputs": [],
   "source": [
    "#DataFrame(performances_train)"
   ]
  },
  {
   "cell_type": "markdown",
   "metadata": {},
   "source": [
    "### Hyperparameter Tuning"
   ]
  },
  {
   "cell_type": "code",
   "execution_count": 64,
   "metadata": {},
   "outputs": [],
   "source": [
    "#model = GradientBoostingClassifier(random_state = 1)\n",
    "#params = {\"n_estimators\" : [200,300,400,450],\n",
    "#          \"max_depth\" : [1,2,3,5,6],\n",
    "#          \"learning_rate\" : [0.1, 0.05, 0.01],\n",
    "#          \"subsample\" : [0.5, 0.6, 0.8, 0.9, 0.95],\n",
    "#          \"min_samples_split\" : [1,2,3,4],\n",
    "#          \"min_samples_leaf\" : [1,2,3]}\n",
    "\n",
    "#gs = GridSearchCV(model, params, cv = 5, scoring = 'roc_auc')\n",
    "\n",
    "#gs.fit(X_train, y_train)\n",
    "\n",
    "#print(\"Best AUC ROC : \", gs.best_score_)\n",
    "#print(\"Best parameters : \", gs.best_params_)"
   ]
  },
  {
   "cell_type": "code",
   "execution_count": 65,
   "metadata": {},
   "outputs": [],
   "source": [
    "model_grid = {}"
   ]
  },
  {
   "cell_type": "code",
   "execution_count": 66,
   "metadata": {},
   "outputs": [],
   "source": [
    "#cv = StratifiedKFold(n_splits=5, random_state=1, shuffle=True)\n",
    "#model = LGBMClassifier(boosting_type='gbdt', random_state=1)\n",
    "#parameters = {\n",
    "#    'objective': ['binary'],\n",
    "#    'learning_rate': [0.01, 0.05, 0.1, 0.2],\n",
    "#    'num_leaves': [6, 8, 12, 16],\n",
    "#    'max_depth': [3, 5, 8],\n",
    "#    'subsample': [0.7, 0.75],\n",
    "#    'colsample_bytree': [0.65, 0.66],\n",
    "#    'n_estimators': [100],\n",
    "#    'reg_alpha': [1, 1.2],\n",
    "#    'reg_lambda': [1, 1.2, 1.4],\n",
    "#}\n",
    "\n",
    "#clf = GridSearchCV(model, parameters, scoring='roc_auc', n_jobs=1, cv=cv, verbose=10, return_train_score=True)\n",
    "#clf.fit(X_train, np.ravel(y_train))\n",
    "#model_grid['gb_lasso'] = clf  # Store the CV result\n",
    "#best_test_idx = np.where(clf.cv_results_['rank_test_score'] == 1)[0][0]\n",
    "#print('Best model - AUC train:', clf.cv_results_['mean_train_score'][best_test_idx])\n",
    "#print('Best model - AUC test:', clf.cv_results_['mean_test_score'][best_test_idx])\n",
    "#print(\"Best model - params:\", clf.best_params_)\n"
   ]
  },
  {
   "cell_type": "code",
   "execution_count": 67,
   "metadata": {
    "scrolled": false
   },
   "outputs": [],
   "source": [
    "#features"
   ]
  },
  {
   "cell_type": "code",
   "execution_count": 68,
   "metadata": {},
   "outputs": [],
   "source": [
    "#Best model - AUC train: 0.7108138100032287\n",
    "#Best model - AUC test: 0.6941913793049327\n",
    "#Best model - params: {'colsample_bytree': 0.66, 'learning_rate': 0.2, 'max_depth': 5, 'n_estimators': 100, 'num_leaves': 16, 'objective': 'binary', 'reg_alpha': 1.2, 'reg_lambda': 1, 'subsample': 0.7}"
   ]
  },
  {
   "cell_type": "code",
   "execution_count": 69,
   "metadata": {},
   "outputs": [],
   "source": [
    "#model = GradientBoostingClassifier(random_state = 1, 'colsample_bytree': 0.66, 'learning_rate': 0.2, 'max_depth': 5, 'n_estimators': 100, 'num_leaves': 16, 'objective': 'binary', 'reg_alpha': 1.2, 'reg_lambda': 1, 'subsample': 0.7)\n"
   ]
  },
  {
   "cell_type": "code",
   "execution_count": 70,
   "metadata": {},
   "outputs": [],
   "source": [
    "model = LGBMClassifier(boosting_type = 'gbdt', random_state=1, colsample_bytree = 0.66, learning_rate = 0.2, \n",
    "                       max_depth = 5, n_estimators = 100, num_leaves = 16, objective = 'binary', \n",
    "                       reg_alpha = 1.2, reg_lambda = 1, subsample = 0.7)\n"
   ]
  },
  {
   "cell_type": "code",
   "execution_count": 71,
   "metadata": {},
   "outputs": [
    {
     "name": "stdout",
     "output_type": "stream",
     "text": [
      "LGBMClassifier(colsample_bytree=0.66, learning_rate=0.2, max_depth=5,\n",
      "               num_leaves=16, objective='binary', random_state=1, reg_alpha=1.2,\n",
      "               reg_lambda=1, subsample=0.7) has been trained successfully\n"
     ]
    }
   ],
   "source": [
    "model.fit(X_train,y_train)\n",
    "print(f\"{model} has been trained successfully\")"
   ]
  },
  {
   "cell_type": "code",
   "execution_count": 72,
   "metadata": {},
   "outputs": [],
   "source": [
    "performances_train = {}\n",
    "\n",
    "\n",
    "\n",
    "predictions   = model.predict(X_test)\n",
    "probabilities = DataFrame(model.predict_proba(X_test))[1]\n",
    "accuracy      = accuracy_score(y_test,predictions)\n",
    "auc           = roc_auc_score(array(y_test),array(probabilities))\n",
    "    \n",
    "performances_train[model] = {\"Accuracy\":accuracy,\"AUC\":auc}"
   ]
  },
  {
   "cell_type": "code",
   "execution_count": 73,
   "metadata": {},
   "outputs": [
    {
     "data": {
      "text/html": [
       "<div>\n",
       "<style scoped>\n",
       "    .dataframe tbody tr th:only-of-type {\n",
       "        vertical-align: middle;\n",
       "    }\n",
       "\n",
       "    .dataframe tbody tr th {\n",
       "        vertical-align: top;\n",
       "    }\n",
       "\n",
       "    .dataframe thead th {\n",
       "        text-align: right;\n",
       "    }\n",
       "</style>\n",
       "<table border=\"1\" class=\"dataframe\">\n",
       "  <thead>\n",
       "    <tr style=\"text-align: right;\">\n",
       "      <th></th>\n",
       "      <th>LGBMClassifier(colsample_bytree=0.66, learning_rate=0.2, max_depth=5,\\n               num_leaves=16, objective='binary', random_state=1, reg_alpha=1.2,\\n               reg_lambda=1, subsample=0.7)</th>\n",
       "    </tr>\n",
       "  </thead>\n",
       "  <tbody>\n",
       "    <tr>\n",
       "      <th>AUC</th>\n",
       "      <td>0.694631</td>\n",
       "    </tr>\n",
       "    <tr>\n",
       "      <th>Accuracy</th>\n",
       "      <td>0.635712</td>\n",
       "    </tr>\n",
       "  </tbody>\n",
       "</table>\n",
       "</div>"
      ],
      "text/plain": [
       "          LGBMClassifier(colsample_bytree=0.66, learning_rate=0.2, max_depth=5,\\n               num_leaves=16, objective='binary', random_state=1, reg_alpha=1.2,\\n               reg_lambda=1, subsample=0.7)\n",
       "AUC                                                0.694631                                                                                                                                                   \n",
       "Accuracy                                           0.635712                                                                                                                                                   "
      ]
     },
     "execution_count": 73,
     "metadata": {},
     "output_type": "execute_result"
    }
   ],
   "source": [
    "DataFrame(performances_train)"
   ]
  },
  {
   "cell_type": "code",
   "execution_count": 76,
   "metadata": {},
   "outputs": [
    {
     "data": {
      "image/png": "[encoded data removed]",
      "text/plain": [
       "<Figure size 432x288 with 1 Axes>"
      ]
     },
     "metadata": {
      "needs_background": "light"
     },
     "output_type": "display_data"
    }
   ],
   "source": [
    "fpr, tpr, _ = roc_curve(y_test, array(probabilities))\n",
    "plt.plot(fpr, tpr, marker='.', label=\"BoostedTree w Parameter Tuning\")\n",
    "# axis labelsµ\n",
    "plt.xlabel('False Positive Rate')\n",
    "plt.ylabel('True Positive Rate')\n",
    "# show the legend\n",
    "plt.legend()\n",
    "# show the plot\n",
    "plt.show()"
   ]
  },
  {
   "cell_type": "code",
   "execution_count": 80,
   "metadata": {},
   "outputs": [
    {
     "data": {
      "image/png": "[encoded data removed]",
      "text/plain": [
       "<Figure size 432x288 with 1 Axes>"
      ]
     },
     "metadata": {
      "needs_background": "light"
     },
     "output_type": "display_data"
    }
   ],
   "source": [
    "precision, recall, _ = precision_recall_curve(y_test, array(probabilities))\n",
    "plt.plot(recall, precision, marker='.', label='BoostedTree')\n",
    "# axis labels\n",
    "plt.xlabel('Recall')\n",
    "plt.ylabel('Precision')\n",
    "# show the legend\n",
    "plt.legend()\n",
    "# show the plot\n",
    "plt.show()"
   ]
  },
  {
   "cell_type": "code",
   "execution_count": 89,
   "metadata": {},
   "outputs": [
    {
     "name": "stdout",
     "output_type": "stream",
     "text": [
      "Precision: 0.638\n",
      "Recall: 0.628\n",
      "F-Measure: 0.633\n"
     ]
    }
   ],
   "source": [
    "precision = precision_score(y_test, predictions, average='binary')\n",
    "print('Precision: %.3f' % precision)\n",
    "\n",
    "recall = recall_score(y_test, predictions, average='binary')\n",
    "print('Recall: %.3f' % recall)\n",
    "\n",
    "score = f1_score(y_test, predictions, average='binary')\n",
    "print('F-Measure: %.3f' % score)"
   ]
  }
 ],
 "metadata": {
  "kernelspec": {
   "display_name": "Python 3",
   "language": "python",
   "name": "python3"
  },
  "language_info": {
   "codemirror_mode": {
    "name": "ipython",
    "version": 3
   },
   "file_extension": ".py",
   "mimetype": "text/x-python",
   "name": "python",
   "nbconvert_exporter": "python",
   "pygments_lexer": "ipython3",
   "version": "3.8.5"
  }
 },
 "nbformat": 4,
 "nbformat_minor": 4
}
